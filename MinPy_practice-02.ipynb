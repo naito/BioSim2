{
 "cells": [
  {
   "cell_type": "markdown",
   "metadata": {},
   "source": [
    "# 01 数値を使う"
   ]
  },
  {
   "cell_type": "markdown",
   "metadata": {},
   "source": [
    "## テンパズルを解いてみよう\n",
    "\n",
    "- 下のセルの数字の間に演算子や括弧を入れて、計算結果が10になるようにしてみよう。\n",
    "- セルはコピー＆ペーストできます。なるべくたくさんの解を見つけてみましょう。"
   ]
  },
  {
   "cell_type": "code",
   "execution_count": null,
   "metadata": {
    "collapsed": false
   },
   "outputs": [],
   "source": [
    "## 演算子を書き加えてください ##\n",
    "\n",
    "5 5 1 9"
   ]
  },
  {
   "cell_type": "code",
   "execution_count": null,
   "metadata": {
    "collapsed": true
   },
   "outputs": [],
   "source": [
    "## 演算子を書き加えてください ##\n",
    "\n",
    "5 5 1 9"
   ]
  },
  {
   "cell_type": "code",
   "execution_count": null,
   "metadata": {
    "collapsed": true
   },
   "outputs": [],
   "source": [
    "## 演算子を書き加えてください ##\n",
    "\n",
    "5 5 1 9"
   ]
  },
  {
   "cell_type": "markdown",
   "metadata": {},
   "source": [
    "# 02 変数を使う"
   ]
  },
  {
   "cell_type": "markdown",
   "metadata": {},
   "source": [
    "## GPAの計算をしてみよう\n",
    "\n",
    "- ある学生の成績が以下の通りだったとします。\n",
    "\n",
    "|評語|その評語を取った科目数|\n",
    "|:--:|:--:|\n",
    "|S|38|\n",
    "|A|48|\n",
    "|B|34|\n",
    "|C|5|\n",
    "|D|10|\n",
    "\n",
    "- この学生のGPAを計算してみよう。\n",
    "  - GPAの計算方法は [SFC Guide 2017 Vol.2 p.45](http://www.gakuji.keio.ac.jp/sfc/pe/sfcguide.html) に掲載されています。\n",
    "- 計算する際に、数値はすべて変数に代入し、数値どうしを演算子で計算しないような書き方にしてください。\n",
    "  - ○　`a * b`\n",
    "  - ×　`6 * 7`"
   ]
  },
  {
   "cell_type": "code",
   "execution_count": null,
   "metadata": {
    "collapsed": true
   },
   "outputs": [],
   "source": [
    "# 解答欄"
   ]
  },
  {
   "cell_type": "markdown",
   "metadata": {},
   "source": [
    "## 変数名のつけ方\n",
    "\n",
    "- 次の文字列を、変数名として使えるものと使えないものに分類してみよう\n",
    "  - 確かめ方：セルにコピペして `abc = 1` のような文を実行してみてエラーが出ないようなら、変数名として使えるということです。"
   ]
  },
  {
   "cell_type": "markdown",
   "metadata": {},
   "source": [
    "1. `abc`\n",
    "1. `123`\n",
    "1. `abc123`\n",
    "1. `123abc`\n",
    "1. `abc_123`\n",
    "1. `123_abc`\n",
    "1. `_abc123`\n",
    "1. `_123abc`\n",
    "1. `abc123_`\n",
    "1. `123abc_`\n",
    "1. `__abc123`\n",
    "1. `__123abc`"
   ]
  },
  {
   "cell_type": "code",
   "execution_count": null,
   "metadata": {
    "collapsed": true
   },
   "outputs": [],
   "source": [
    "# アヤシイものが、変数名として使えるか確かめてみましょう。"
   ]
  },
  {
   "cell_type": "markdown",
   "metadata": {},
   "source": [
    "# 03 文字列を使う"
   ]
  },
  {
   "cell_type": "markdown",
   "metadata": {},
   "source": [
    "## 文字列の連結\n",
    "\n",
    "- 下のセルの文字列を連結して、文字列 \"Shonan Fujisawa Campus\" を出力するように、セルの末尾に１行だけ書き足しなさい。"
   ]
  },
  {
   "cell_type": "code",
   "execution_count": null,
   "metadata": {
    "collapsed": true
   },
   "outputs": [],
   "source": [
    "S = \"Shonan\"\n",
    "F = \"Fujisawa\"\n",
    "C = \"Campus\"\n",
    "\n",
    "## ここにコードを書き加えてください ##"
   ]
  },
  {
   "cell_type": "markdown",
   "metadata": {},
   "source": [
    "## 複合演算子\n",
    "\n",
    "- 下のセルの末尾に数行書き足して、文字列 \"Shonan Fujisawa Campus\" を出力するようにしなさい。ただし、**使用できる演算子は複合演算子だけ**とします。"
   ]
  },
  {
   "cell_type": "code",
   "execution_count": null,
   "metadata": {
    "collapsed": true
   },
   "outputs": [],
   "source": [
    "SF = \"Shonan Fujisawa\"\n",
    "C = \"Campus\"\n",
    "\n",
    "## ここにコードを書き加えてください ##"
   ]
  },
  {
   "cell_type": "markdown",
   "metadata": {},
   "source": [
    "- 下のセルの末尾に数行書き足して、２の８乗（2<sup>8</sup>）を計算しなさい。ただし、**使用できる演算子は複合演算子だけ**とします。"
   ]
  },
  {
   "cell_type": "code",
   "execution_count": null,
   "metadata": {
    "collapsed": false
   },
   "outputs": [],
   "source": [
    "x = 2\n",
    "\n",
    "## ここにコードを書き加えてください ##"
   ]
  },
  {
   "cell_type": "markdown",
   "metadata": {},
   "source": [
    "## 型変換\n",
    "\n",
    "- 次のセルにコードを書き足して、123 × 456 を計算しなさい。ただし、セルに新たに数値を書き込まずに完成させてください。"
   ]
  },
  {
   "cell_type": "code",
   "execution_count": null,
   "metadata": {
    "collapsed": true
   },
   "outputs": [],
   "source": [
    "a = \"123\"\n",
    "b = \"456\"\n",
    "\n",
    "## ここにコードを書き加えてください ##"
   ]
  },
  {
   "cell_type": "markdown",
   "metadata": {},
   "source": [
    "- 次のセルにコードを書き足して、123 ÷ 456 を計算しなさい（小数点以下の商が得られるように計算すること）。ただし、セルに新たに数値を書き込まずに完成させてください。"
   ]
  },
  {
   "cell_type": "code",
   "execution_count": null,
   "metadata": {
    "collapsed": true
   },
   "outputs": [],
   "source": [
    "a = \"123\"\n",
    "b = \"456\"\n",
    "\n",
    "## ここにコードを書き加えてください ##"
   ]
  },
  {
   "cell_type": "markdown",
   "metadata": {},
   "source": [
    "- 次のセルのコードは、`\"3 days = 72 hours\"` という出力を得たいのですが、エラーが発生しています。コードを修正して正しい結果が得られるようにしてください。"
   ]
  },
  {
   "cell_type": "code",
   "execution_count": 1,
   "metadata": {
    "collapsed": false
   },
   "outputs": [
    {
     "ename": "TypeError",
     "evalue": "unsupported operand type(s) for +: 'int' and 'str'",
     "output_type": "error",
     "traceback": [
      "\u001b[0;31m---------------------------------------------------------------------------\u001b[0m",
      "\u001b[0;31mTypeError\u001b[0m                                 Traceback (most recent call last)",
      "\u001b[0;32m<ipython-input-1-329e93056366>\u001b[0m in \u001b[0;36m<module>\u001b[0;34m()\u001b[0m\n\u001b[1;32m      3\u001b[0m \u001b[0mhours\u001b[0m \u001b[0;34m=\u001b[0m \u001b[0mdays\u001b[0m \u001b[0;34m*\u001b[0m \u001b[0mhours_per_day\u001b[0m\u001b[0;34m\u001b[0m\u001b[0m\n\u001b[1;32m      4\u001b[0m \u001b[0;34m\u001b[0m\u001b[0m\n\u001b[0;32m----> 5\u001b[0;31m \u001b[0mdays\u001b[0m \u001b[0;34m+\u001b[0m \u001b[0;34m\" days = \"\u001b[0m \u001b[0;34m+\u001b[0m \u001b[0mhours\u001b[0m \u001b[0;34m+\u001b[0m \u001b[0;34m\" hours\"\u001b[0m\u001b[0;34m\u001b[0m\u001b[0m\n\u001b[0m",
      "\u001b[0;31mTypeError\u001b[0m: unsupported operand type(s) for +: 'int' and 'str'"
     ]
    }
   ],
   "source": [
    "days = 3\n",
    "hours_per_day = 24\n",
    "hours = days * hours_per_day\n",
    "\n",
    "days + \" days = \" + hours + \" hours\""
   ]
  },
  {
   "cell_type": "markdown",
   "metadata": {},
   "source": [
    "# 04 リストを使う"
   ]
  },
  {
   "cell_type": "markdown",
   "metadata": {},
   "source": [
    "- 下のセルで定義したリスト `fujisawa_temps` は、藤沢市の月別の平均気温を１月から12月の順に格納したものです。\n",
    "- 教科書にならって、藤沢市の月別の平均気温をグラフに描画してみましょう。"
   ]
  },
  {
   "cell_type": "code",
   "execution_count": null,
   "metadata": {
    "collapsed": false
   },
   "outputs": [],
   "source": [
    "fujisawa_temps = [5.0, 5.3, 8.4, 13.5, 17.9, 21.1, 25.0, 26.5, 22.7, 17.2, 12.3, 7.6]\n",
    "\n",
    "%matplotlib inline\n",
    "import matplotlib.pyplot as plt\n",
    "\n",
    "## ここにコードを書き加えてください ##"
   ]
  },
  {
   "cell_type": "markdown",
   "metadata": {},
   "source": [
    "## インデックスを指定して要素を取り出す\n",
    "\n",
    "- リスト `fujisawa_temps` の要素を取りだして、最も暑い８月の平均気温と最も寒い１月の平均気温の差を計算してください。\n",
    "  - 正解は 21.5 ℃ です。"
   ]
  },
  {
   "cell_type": "code",
   "execution_count": null,
   "metadata": {
    "collapsed": false
   },
   "outputs": [],
   "source": [
    "# 解答欄"
   ]
  },
  {
   "cell_type": "markdown",
   "metadata": {},
   "source": [
    "## 要素の置き換え\n",
    "\n",
    "- 下のリスト `deans` の要素を置き換えて `[\"Kawazoe\", \"Hamada\", \"Murai\"]` にしましょう。"
   ]
  },
  {
   "cell_type": "code",
   "execution_count": null,
   "metadata": {
    "collapsed": true
   },
   "outputs": [],
   "source": [
    "deans = [\"Kawazoe\", \"Murai\", \"Kiyoshi\"]\n",
    "\n",
    "## ここにコードを書き加えてください ##"
   ]
  },
  {
   "cell_type": "markdown",
   "metadata": {},
   "source": [
    "## 要素の削除\n",
    "\n",
    "- 下のリスト `bills` の要素は、日本の紙幣の額面です。このリストから、現在使われていない額面の要素を削除しましょう。"
   ]
  },
  {
   "cell_type": "code",
   "execution_count": null,
   "metadata": {
    "collapsed": true
   },
   "outputs": [],
   "source": [
    "bills = [\"100yen\", \"500yen\", \"1000yen\", \"2000yen\", \"5000yen\", \"10000yen\"]\n",
    "\n",
    "## ここにコードを書き加えてください ##"
   ]
  },
  {
   "cell_type": "markdown",
   "metadata": {},
   "source": [
    "## スライスを利用して複数の要素を取り出す\n",
    "\n",
    "- 下のリスト `bills` の要素は、日本の紙幣の額面です。このリストから、現在使われている額面の要素だけを含むリストを、 `bills` のスライスとして取り出しましょう。"
   ]
  },
  {
   "cell_type": "code",
   "execution_count": null,
   "metadata": {
    "collapsed": true
   },
   "outputs": [],
   "source": [
    "bills = [\"100yen\", \"500yen\", \"1000yen\", \"2000yen\", \"5000yen\", \"10000yen\"]\n",
    "\n",
    "## ここにコードを書き加えてください ##"
   ]
  },
  {
   "cell_type": "markdown",
   "metadata": {},
   "source": [
    "## リストのリスト　—　二次元配列\n",
    "\n",
    "- 下の表は、藤沢市の月別の平均気温と降水量です。\n",
    "\n",
    "||1月|2月|3月|4月|5月|6月|7月|8月|9月|10月|11月|12月|\n",
    "|:-:|-:|-:|-:|-:|-:|-:|-:|-:|-:|-:|-:|-:|\n",
    "|平均温度|5.0|5.3|8.4|13.5|17.9|21.1|25.0|26.5|22.7|17.2|12.3|7.6|\n",
    "|降水量|55.0|65.0|111.0|137.0|159.0|210.0|153.0|153.0|200.0|180.0|98.0|58.0|\n",
    "\n",
    "- 下のセルに、これを二次元配列として表した `fujisawa_temps_and_rainfalls` を定義します。"
   ]
  },
  {
   "cell_type": "code",
   "execution_count": null,
   "metadata": {
    "collapsed": true
   },
   "outputs": [],
   "source": [
    "fujisawa_temps_and_rainfalls = [\n",
    "    [5.0, 5.3, 8.4, 13.5, 17.9, 21.1, 25.0, 26.5, 22.7, 17.2, 12.3, 7.6],\n",
    "    [55.0, 65.0, 111.0, 137.0, 159.0, 210.0, 153.0, 153.0, 200.0, 180.0, 98.0, 58.0]\n",
    "]\n"
   ]
  },
  {
   "cell_type": "markdown",
   "metadata": {},
   "source": [
    "- `fujisawa_temps_and_rainfalls` から月別降水量のリストを取り出してみましょう。"
   ]
  },
  {
   "cell_type": "code",
   "execution_count": null,
   "metadata": {
    "collapsed": true
   },
   "outputs": [],
   "source": [
    "# 解答欄"
   ]
  },
  {
   "cell_type": "markdown",
   "metadata": {},
   "source": [
    "- `fujisawa_temps_and_rainfalls` の要素を取りだして、最も雨の多い６月と最も雨の少ない１月の降水量の差を計算してください。"
   ]
  },
  {
   "cell_type": "code",
   "execution_count": null,
   "metadata": {
    "collapsed": true
   },
   "outputs": [],
   "source": [
    "# 解答欄"
   ]
  },
  {
   "cell_type": "markdown",
   "metadata": {},
   "source": [
    "- 下のセルで定義した `miamibeach_temps_and_rainfalls` は、マイアミビーチ市（藤沢市の姉妹都市）の月別平均気温と降水量の二次元配列です。"
   ]
  },
  {
   "cell_type": "code",
   "execution_count": null,
   "metadata": {
    "collapsed": true
   },
   "outputs": [],
   "source": [
    "miamibeach_temps_and_rainfalls = [\n",
    "    [19.8, 20.2, 21.8, 23.6, 25.5, 27.2, 28, 28.1, 27.6, 25.7, 23.2, 20.7],\n",
    "    [56.0, 57.0, 52.0, 63.0, 147.0, 191.0, 110.0, 130.0, 172.0, 137.0, 74.0, 45.0]\n",
    "]\n"
   ]
  },
  {
   "cell_type": "markdown",
   "metadata": {},
   "source": [
    "- 藤沢市とマイアミビーチ市の平均気温を比較するグラフを描いてみましょう。"
   ]
  },
  {
   "cell_type": "code",
   "execution_count": null,
   "metadata": {
    "collapsed": false
   },
   "outputs": [],
   "source": [
    "# 解答欄"
   ]
  },
  {
   "cell_type": "markdown",
   "metadata": {},
   "source": [
    "- 藤沢市とマイアミビーチ市の降水量を比較するグラフを描いてみましょう。"
   ]
  },
  {
   "cell_type": "code",
   "execution_count": null,
   "metadata": {
    "collapsed": false
   },
   "outputs": [],
   "source": [
    "# 解答欄"
   ]
  },
  {
   "cell_type": "markdown",
   "metadata": {},
   "source": [
    "## リストの合計、最大値、最小値\n",
    "\n",
    "- 藤沢市の年間降水量を `sum()` を用いて計算してみましょう。"
   ]
  },
  {
   "cell_type": "code",
   "execution_count": null,
   "metadata": {
    "collapsed": true
   },
   "outputs": [],
   "source": [
    "# 解答欄"
   ]
  },
  {
   "cell_type": "markdown",
   "metadata": {},
   "source": [
    "- 藤沢市の月別平均気温から、最大値と最小値を出力してみましょう。"
   ]
  },
  {
   "cell_type": "code",
   "execution_count": null,
   "metadata": {
    "collapsed": true
   },
   "outputs": [],
   "source": [
    "# 最大値"
   ]
  },
  {
   "cell_type": "code",
   "execution_count": null,
   "metadata": {
    "collapsed": true
   },
   "outputs": [],
   "source": [
    "# 最小値"
   ]
  },
  {
   "cell_type": "markdown",
   "metadata": {},
   "source": [
    "## リストの長さを調べる\n",
    "\n",
    "- 下のリスト `kanagawa_rainfalls_recent30days` は、[気象庁が提供する期間合計降水量一覧](http://www.data.jma.go.jp/obd/stats/data/mdrr/tenkou/alltable/pre00.html#a46) から、神奈川県内の地域気象観測所の2017年９月２日〜10月１日の降水量データです。\n",
    "- リストの全要素の平均値を求めましょう。"
   ]
  },
  {
   "cell_type": "code",
   "execution_count": null,
   "metadata": {
    "collapsed": true
   },
   "outputs": [],
   "source": [
    "kanagawa_rainfalls_recent30days = [177.5, 217.5, 236.5, 232.5, 257.5, 312.5, 224.5, 206.5, 395.5, 263.5, 388.0]"
   ]
  },
  {
   "cell_type": "code",
   "execution_count": null,
   "metadata": {
    "collapsed": true
   },
   "outputs": [],
   "source": [
    "# 解答欄"
   ]
  },
  {
   "cell_type": "markdown",
   "metadata": {},
   "source": [
    "# 05 for文でループを使う"
   ]
  },
  {
   "cell_type": "markdown",
   "metadata": {},
   "source": [
    "- リスト `kanagawa_rainfalls_recent30days` から、神奈川県内の地域気象観測所の2017年９月２日〜10月１日の降水量の分散を求めてみましょう。"
   ]
  },
  {
   "cell_type": "code",
   "execution_count": null,
   "metadata": {
    "collapsed": true
   },
   "outputs": [],
   "source": [
    "# 解答欄"
   ]
  },
  {
   "cell_type": "markdown",
   "metadata": {},
   "source": [
    "- 標準偏差を計算してみましょう。"
   ]
  },
  {
   "cell_type": "code",
   "execution_count": null,
   "metadata": {
    "collapsed": true
   },
   "outputs": [],
   "source": [
    "# 解答欄"
   ]
  },
  {
   "cell_type": "markdown",
   "metadata": {},
   "source": [
    "## `range()` 関数\n",
    "\n",
    "- `range()` 関数を利用して、1から100までの整数の合計を計算してみましょう。"
   ]
  },
  {
   "cell_type": "code",
   "execution_count": null,
   "metadata": {
    "collapsed": true
   },
   "outputs": [],
   "source": [
    "# 解答欄"
   ]
  },
  {
   "cell_type": "markdown",
   "metadata": {},
   "source": [
    "- ある微生物が、１時間に10％個体数が増加するとします。\n",
    "- 現在、その微生物は１万個体いるとします。\n",
    "- `range()` 関数を利用して、この微生物の１週間後の個体数を計算してみましょう。\n"
   ]
  },
  {
   "cell_type": "code",
   "execution_count": null,
   "metadata": {
    "collapsed": false
   },
   "outputs": [],
   "source": [
    "number_of_bacteria = 10000\n",
    "\n",
    "## ここにコードを書き加えてください ##"
   ]
  },
  {
   "cell_type": "markdown",
   "metadata": {},
   "source": [
    "# 06 `if`文で条件分岐をする"
   ]
  },
  {
   "cell_type": "markdown",
   "metadata": {},
   "source": [
    "## 数値を比較する\n",
    "\n",
    "- 藤沢市の年間降水量が 1200 mm 以上なら \">= 1200 mm\" と出力する `if`文を書いてください。"
   ]
  },
  {
   "cell_type": "code",
   "execution_count": null,
   "metadata": {
    "collapsed": true
   },
   "outputs": [],
   "source": [
    "if ## ここにコードを書き加えてください ## :\n",
    "    print(\">= 1200 mm\")\n"
   ]
  },
  {
   "cell_type": "markdown",
   "metadata": {},
   "source": [
    "## リストの要素を検索する\n",
    "\n",
    "- 下のセルで定義したリスト `amino_acids_in_codon` は、生命の遺伝暗号にコードされているアミノ酸を要素としています。\n",
    "-　文字列 `\"Asp\"` がこのリストに含まれている場合に `\"Asp is found in the codon table.\"` と出力する `if`文を書いてください。"
   ]
  },
  {
   "cell_type": "code",
   "execution_count": null,
   "metadata": {
    "collapsed": true
   },
   "outputs": [],
   "source": [
    "amino_acids_in_codon = [\n",
    "    \"Ala\",\"Arg\",\"Ans\",\"Asp\",\"Cys\",\"Gln\",\"Glu\",\"Gly\",\"His\",\"Ile\",\n",
    "    \"Leu\",\"Lys\",\"Met\",\"Phe\",\"Pro\",\"Ser\",\"Thr\",\"Trp\",\"Tyr\",\"Val\"\n",
    "]"
   ]
  },
  {
   "cell_type": "code",
   "execution_count": null,
   "metadata": {
    "collapsed": true
   },
   "outputs": [],
   "source": [
    "if ## ここにコードを書き加えてください ## :\n",
    "    print(\"Asp is found in the codon table.\")\n"
   ]
  },
  {
   "cell_type": "markdown",
   "metadata": {},
   "source": [
    "## `else`文を使う\n",
    "\n",
    "- 藤沢市の年間降水量が 1200 mm 以上なら \">= 1200 mm\" 、そうでなければ \"< 1200 mm\" と出力する if文を書いてください。"
   ]
  },
  {
   "cell_type": "code",
   "execution_count": null,
   "metadata": {
    "collapsed": true
   },
   "outputs": [],
   "source": [
    "# 解答欄"
   ]
  },
  {
   "cell_type": "markdown",
   "metadata": {},
   "source": [
    "## `else`文を使う\n",
    "\n",
    "- 藤沢市の年間降水量が 2000 mm 以上なら \">= 2000 mm\" 、1000 mm 以上 2000 mm 未満なら \"< 2000 mm, >= 1000 mm\" 、1000 mm 未満であれば \"< 1000 mm\" と出力する if文を書いてください。"
   ]
  },
  {
   "cell_type": "code",
   "execution_count": null,
   "metadata": {
    "collapsed": true
   },
   "outputs": [],
   "source": [
    "# 解答欄"
   ]
  },
  {
   "cell_type": "markdown",
   "metadata": {},
   "source": [
    "# 07 関数を使う"
   ]
  },
  {
   "cell_type": "markdown",
   "metadata": {},
   "source": [
    "## 関数の引数、戻り値\n",
    "\n",
    "- `pow()`関数は、２つの**引数**をとります。 `pow(a,b)` の**戻り値**は、`a` の `b` 乗（a<sup>b</sup>）です。\n",
    "- `pow()`関数および `for`文を使って、２の０乗から10乗までの計算結果を順に出力するコードを書いてみましょう。"
   ]
  },
  {
   "cell_type": "code",
   "execution_count": null,
   "metadata": {
    "collapsed": true
   },
   "outputs": [],
   "source": [
    "# 解答欄"
   ]
  },
  {
   "cell_type": "markdown",
   "metadata": {},
   "source": [
    "## 関数を定義する\n",
    "\n",
    "- 以下のような引数と戻り値を持つ関数 `temps_stat()` を作ってみましょう。\n",
    "  - **引数**：月別平均気温のリスト\n",
    "  - **戻り値**：年間平均気温、月別平均気温の最大値、月別平均気温の最小値の３つの要素からなるリスト"
   ]
  },
  {
   "cell_type": "code",
   "execution_count": null,
   "metadata": {
    "collapsed": true
   },
   "outputs": [],
   "source": [
    "# 解答欄"
   ]
  },
  {
   "cell_type": "markdown",
   "metadata": {},
   "source": [
    "- 作った関数 ` temps_stat()` を使って、マイアミビーチ市の年間平均気温、月別平均気温の最大値、月別平均気温の最小値（のリスト）を求めてみましょう。"
   ]
  },
  {
   "cell_type": "code",
   "execution_count": null,
   "metadata": {
    "collapsed": true
   },
   "outputs": [],
   "source": [
    "# 解答欄"
   ]
  },
  {
   "cell_type": "markdown",
   "metadata": {},
   "source": [
    "# 08 モジュールを使う"
   ]
  },
  {
   "cell_type": "markdown",
   "metadata": {},
   "source": [
    "## モジュールをインポート（`import`）する\n",
    "\n",
    "- `random`モジュールを使って、サイコロ（１〜６の整数の乱数発生器）を10000回振ったときの出た目の平均値を求めてみましょう。\n",
    "- 「みんなのPython第４版」p.108のサンプルコード内のコメントは誤っているので注意してください。\n",
    "  - `random,randint(0, 6)` とした場合、「0 **＜** x ≦ 6 の乱数」ではなく「0 **≦** x ≦ 6 の乱数」を得ます。\n",
    "    - （中級者以上向け）`numpy.random.randint(0, 6)` は、「0 **≦** x **＜** 6 の乱数」を返します。同じ名前の関数で引数の定義が異なるで注意しましょう。"
   ]
  },
  {
   "cell_type": "code",
   "execution_count": 2,
   "metadata": {
    "collapsed": false
   },
   "outputs": [
    {
     "name": "stdout",
     "output_type": "stream",
     "text": [
      "1\n"
     ]
    }
   ],
   "source": [
    "import random\n",
    "\n",
    "# 1 ≦ x ≦ 6 の乱数を得る\n",
    "print(random.randint(1, 6))"
   ]
  },
  {
   "cell_type": "code",
   "execution_count": null,
   "metadata": {
    "collapsed": false
   },
   "outputs": [],
   "source": [
    "# 解答欄\n"
   ]
  },
  {
   "cell_type": "markdown",
   "metadata": {},
   "source": [
    "## `import`文の`as`\n",
    "\n",
    "- 上のサイコロの出た目の平均を算出するプログラムを、`random`モジュールを`rd`という名前でインポートして書いてみましょう。"
   ]
  },
  {
   "cell_type": "code",
   "execution_count": null,
   "metadata": {
    "collapsed": true
   },
   "outputs": [],
   "source": [
    "# 解答欄\n"
   ]
  },
  {
   "cell_type": "markdown",
   "metadata": {},
   "source": [
    "## `from`を使ったインポート\n",
    "\n",
    "- `math`というモジュールには数学関連の機能が数多く実装されています。その中に、円周率πもあり、`math.pi`で呼び出せます。\n",
    "- `from`を用いて、単純に「`pi`」だけで円周率πを使えるようにしましょう。下のセルのコードの**上方**に必要な行を書き加えて、半径10の円の面積を求める、エラーのないコードに仕上げてください。"
   ]
  },
  {
   "cell_type": "code",
   "execution_count": 3,
   "metadata": {
    "collapsed": false
   },
   "outputs": [
    {
     "ename": "NameError",
     "evalue": "name 'pi' is not defined",
     "output_type": "error",
     "traceback": [
      "\u001b[0;31m---------------------------------------------------------------------------\u001b[0m",
      "\u001b[0;31mNameError\u001b[0m                                 Traceback (most recent call last)",
      "\u001b[0;32m<ipython-input-3-f6fc692c85f0>\u001b[0m in \u001b[0;36m<module>\u001b[0;34m()\u001b[0m\n\u001b[1;32m      5\u001b[0m \u001b[0;34m\u001b[0m\u001b[0m\n\u001b[1;32m      6\u001b[0m \u001b[0;31m# 半径 r の円の面積\u001b[0m\u001b[0;34m\u001b[0m\u001b[0;34m\u001b[0m\u001b[0m\n\u001b[0;32m----> 7\u001b[0;31m \u001b[0mpi\u001b[0m \u001b[0;34m*\u001b[0m \u001b[0;34m(\u001b[0m\u001b[0mr\u001b[0m \u001b[0;34m**\u001b[0m \u001b[0;36m2.0\u001b[0m\u001b[0;34m)\u001b[0m\u001b[0;34m\u001b[0m\u001b[0m\n\u001b[0m",
      "\u001b[0;31mNameError\u001b[0m: name 'pi' is not defined"
     ]
    }
   ],
   "source": [
    "## ここにコードを書き加えてください ##\n",
    "\n",
    "# 半径 r\n",
    "r = 10.0\n",
    "\n",
    "# 半径 r の円の面積\n",
    "pi * (r ** 2.0)"
   ]
  },
  {
   "cell_type": "code",
   "execution_count": null,
   "metadata": {
    "collapsed": true
   },
   "outputs": [],
   "source": []
  }
 ],
 "metadata": {
  "kernelspec": {
   "display_name": "Python 2",
   "language": "python",
   "name": "python2"
  },
  "language_info": {
   "codemirror_mode": {
    "name": "ipython",
    "version": 2
   },
   "file_extension": ".py",
   "mimetype": "text/x-python",
   "name": "python",
   "nbconvert_exporter": "python",
   "pygments_lexer": "ipython2",
   "version": "2.7.13"
  }
 },
 "nbformat": 4,
 "nbformat_minor": 1
}

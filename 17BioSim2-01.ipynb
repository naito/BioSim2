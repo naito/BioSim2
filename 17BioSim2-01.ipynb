{
 "cells": [
  {
   "cell_type": "markdown",
   "metadata": {},
   "source": [
    "# 文字列の進化モデル"
   ]
  },
  {
   "cell_type": "markdown",
   "metadata": {},
   "source": [
    "ＳＦＣのキャッチフレーズ「未来からの留学生」を「正しい文字列」とする。いまから、「正しい文字列」を目指して、ランダムな文字列からはじまる「文字列の進化」のシミュレーションをしてみる。\n",
    "\n",
    "文字列に使うことのできる文字は「未」「来」「か」「ら」「の」「留」「学」「生」「慶」「應」「義」「塾」「大」「学」「湘」「南」「藤」「沢」の18文字だけとする。\n",
    "\n",
    "祖先となる最初の文字列（**祖先文字列**）は、ひとつひとつの文字を先の18文字からランダムに選んだ長さ８文字の文字列とする。ランダムに選ぶので、同じ文字が何回出てきても構わない。"
   ]
  },
  {
   "cell_type": "markdown",
   "metadata": {},
   "source": [
    "## 1. 祖先文字列は何種類あるか？"
   ]
  },
  {
   "cell_type": "markdown",
   "metadata": {},
   "source": [
    "文字列の長さは８文字。１ヶ所に使える文字は18種類。１文字なら18通り、２文字なら18×18=324通り。"
   ]
  },
  {
   "cell_type": "markdown",
   "metadata": {},
   "source": [
    "### Pyrhonによる四則演算\n",
    "- 加減乗除　「+」「-」「\\*」「/」\n",
    "- べき乗　「\\*\\*」　例 7<sup>3</sup> = 7 ** 3"
   ]
  },
  {
   "cell_type": "code",
   "execution_count": null,
   "metadata": {
    "collapsed": false
   },
   "outputs": [],
   "source": [
    "# 利用できる文字の数 N_moji、文字列の長さ L\n",
    "N_moji = 18.0\n",
    "L = 8.0\n",
    "L ** N_moji"
   ]
  },
  {
   "cell_type": "markdown",
   "metadata": {},
   "source": [
    "## 2. 祖先文字列の８文字のうち、少なくとも１つが正しい確率を求めなさい。"
   ]
  },
  {
   "cell_type": "markdown",
   "metadata": {},
   "source": [
    "### Pythonの数値\n",
    "- Pythonには数種類の数値のリテラル（データの型）がある。整数（int）、浮動小数点数（float）など。\n",
    "- ふだんは意識しなくても困らないことが多いが、思いもよらぬ間違いに遭遇することもある。"
   ]
  },
  {
   "cell_type": "code",
   "execution_count": null,
   "metadata": {
    "collapsed": false
   },
   "outputs": [],
   "source": [
    "print 1.0 / 3.0\n",
    "print 1 / 3"
   ]
  },
  {
   "cell_type": "markdown",
   "metadata": {},
   "source": [
    "- ８文字すべてが間違っているもの以外のすべてが「少なくとも１つが正しい」\n",
    "- ある１文字が誤りである確率は 17/18、２文字つづけて誤りである確率は 17/18 × 17/18 ≒ 0.8920"
   ]
  },
  {
   "cell_type": "code",
   "execution_count": null,
   "metadata": {
    "collapsed": false
   },
   "outputs": [],
   "source": [
    "1.0 - (( N_moji - 1.0 )/ N_moji ) ** L"
   ]
  },
  {
   "cell_type": "markdown",
   "metadata": {},
   "source": [
    "## 3. 祖先文字列の８文字のうち、１つだけが正しい確率を求めなさい。"
   ]
  },
  {
   "cell_type": "markdown",
   "metadata": {},
   "source": [
    "- 正しい文字が何文字目に入るかで、８通りある。\n",
    "- 残りの７文字はすべて誤りでなければならない。"
   ]
  },
  {
   "cell_type": "code",
   "execution_count": null,
   "metadata": {
    "collapsed": false
   },
   "outputs": [],
   "source": [
    "L * ( 1.0 / N_moji ) * (( N_moji - 1.0 )/ N_moji )**( L - 1.0)"
   ]
  },
  {
   "cell_type": "markdown",
   "metadata": {},
   "source": [
    "# 世代交代\n",
    "祖先文字列のコピーを10個つくる。各文字をコピーする時、0.99（99％）の確率で元と同じ文字が組み込まれるが、0.01（1％）の確率で「突然変異」が起き、元とは違う文字が組み込まれる。文字は、元とは違う７文字の中からランダムに選ばれる。"
   ]
  },
  {
   "cell_type": "markdown",
   "metadata": {},
   "source": [
    "## 4. 祖先文字列に正しい文字が１つもなかったとする。10個のコピーのうち少なくとも１つのコピーで、少なくとも１文字が正しい確率を求めなさい。"
   ]
  },
  {
   "cell_type": "markdown",
   "metadata": {},
   "source": [
    "10個のコピーのうち少なくとも１つのコピーで少なくとも１文字が正しい\n",
    "＝10個のコピーに含まれる80文字のうち１文字以上が正しい\n",
    "＝80文字すべてが誤っているもの以外のすべて"
   ]
  },
  {
   "cell_type": "code",
   "execution_count": null,
   "metadata": {
    "collapsed": false
   },
   "outputs": [],
   "source": [
    "# 変異確率 p_mut、世代あたりのコピーの数 N_copy\n",
    "p_mut = 0.01\n",
    "N_copy = 10\n",
    "\n",
    "1.0 - ( 1.0 - p_mut ) ** ( L * N_copy )"
   ]
  },
  {
   "cell_type": "markdown",
   "metadata": {},
   "source": [
    "### 計算のヒント\n",
    "*x* が小さく *n* が大きい場合に、 ( 1 - *x* )<sup>n</sup> = *e*<sup>-nx</sup> で近似してよい。*e* は自然対数。"
   ]
  },
  {
   "cell_type": "markdown",
   "metadata": {},
   "source": [
    "## 6. 世代を重ねていくと、やがて、８文字のうち７文字が正しい文字列が「親」になる。そのような「親」からつくられた10個のコピーの中に８文字すべてが正しい文字列が１つある確率を求めなさい。"
   ]
  },
  {
   "cell_type": "markdown",
   "metadata": {},
   "source": [
    "- まず１つのコピーが８文字すべて正しくなる確率を求める。\n",
    "- そのためには……\n",
    "  - 誤っている１文字に変異が起こり、正しい文字に変わらなければならない。\n",
    "  - すでに正しい７文字が、間違った文字に変わるような突然変異は１つも起こってはならない。"
   ]
  },
  {
   "cell_type": "code",
   "execution_count": null,
   "metadata": {
    "collapsed": false
   },
   "outputs": [],
   "source": [
    "# ある１文字が突然変異によって正しくなる確率 p_mut_correct （変異前が正しい文字でも誤った文字でも同じ）\n",
    "p_mut_correct = p_mut * ( 1.0 / N_moji )\n",
    "\n",
    "print p_mut_correct"
   ]
  },
  {
   "cell_type": "code",
   "execution_count": null,
   "metadata": {
    "collapsed": false
   },
   "outputs": [],
   "source": [
    "# ある１文字が突然変異によって誤った文字に変わってしまう確率 p_mut_incorrect （変異前が正しい文字でも誤った文字でも同じ）\n",
    "p_mut_incorrect = p_mut * ( ( N_moji - 1.0 )/ N_moji )\n",
    "\n",
    "print p_mut_incorrect"
   ]
  },
  {
   "cell_type": "code",
   "execution_count": null,
   "metadata": {
    "collapsed": false
   },
   "outputs": [],
   "source": [
    "# ７文字正しい文字列が８文字正しくなる確率 p_7to8\n",
    "p_7to8 = p_mut_correct * ( 1.0 - p_mut_incorrect )**7.0\n",
    "print p_7to8"
   ]
  },
  {
   "cell_type": "code",
   "execution_count": null,
   "metadata": {
    "collapsed": false
   },
   "outputs": [],
   "source": [
    "# 10個のコピーが１つも８文字正しくならない確率\n",
    "( 1.0 - p_7to8 )**N_copy"
   ]
  },
  {
   "cell_type": "code",
   "execution_count": null,
   "metadata": {
    "collapsed": false
   },
   "outputs": [],
   "source": [
    "# ７文字が正しい10個のコピーのうち少なくとも１つが８文字正しくなる確率 P_7to8\n",
    "P_7to8 = 1.0 - ( ( 1.0 - p_7to8 )**N_copy )\n",
    "print P_7to8"
   ]
  },
  {
   "cell_type": "markdown",
   "metadata": {},
   "source": [
    "８文字正しい文字列が２つ以上出現する確率は非常に小さいので無視することにする。\n",
    "\n",
    "P_7to8 = 0.00519\n",
    "\n",
    "としておく。\n",
    "\n",
    "Ans. 0.00139"
   ]
  },
  {
   "cell_type": "markdown",
   "metadata": {},
   "source": [
    "## 7. ７文字が正しい文字列から、８文字すべてが正しくなるまでに、だいたいどのくらいの世代がかかるだろうか。"
   ]
  },
  {
   "cell_type": "code",
   "execution_count": null,
   "metadata": {
    "collapsed": false
   },
   "outputs": [],
   "source": [
    "print \"{} 世代\".format( 1.0 / P_7to8 )"
   ]
  },
  {
   "cell_type": "markdown",
   "metadata": {},
   "source": [
    "## 8. １文字も合っていない祖先文字列から、８文字すべてが正しくなるまでに、だいたいどのくらいの世代がかかるだろうか。"
   ]
  },
  {
   "cell_type": "code",
   "execution_count": null,
   "metadata": {
    "collapsed": false
   },
   "outputs": [],
   "source": [
    "# ６文字正しい文字列が７文字（以上）正しくなる確率 p_6to7\n",
    "p_6to7 = 2.0 * p_mut_correct * ( 1.0 - p_mut_incorrect )**6.0\n",
    "print p_6to7"
   ]
  },
  {
   "cell_type": "code",
   "execution_count": null,
   "metadata": {
    "collapsed": false
   },
   "outputs": [],
   "source": [
    "# ６文字が正しい10個のコピーにうち少なくとも１つが７文字（以上）正しくなる確率 P_6to7\n",
    "P_6to7 = 1.0 - ( ( 1.0 - p_6to7 )**N_copy )\n",
    "print P_6to7"
   ]
  },
  {
   "cell_type": "code",
   "execution_count": null,
   "metadata": {
    "collapsed": false
   },
   "outputs": [],
   "source": [
    "print \"{} 世代\".format( 1.0 / P_6to7 )"
   ]
  },
  {
   "cell_type": "markdown",
   "metadata": {},
   "source": [
    "Ans. おおむね 500 世代程度"
   ]
  },
  {
   "cell_type": "markdown",
   "metadata": {},
   "source": [
    "## 9. 突然変異が起こる確率が0.01（1％）から0.1（10％）に増えると、問8でかかる世代数は短くなるだろうか。考察しなさい。"
   ]
  },
  {
   "cell_type": "code",
   "execution_count": null,
   "metadata": {
    "collapsed": false
   },
   "outputs": [],
   "source": [
    "p_mut = 0.1\n",
    "p_mut_correct = p_mut * ( 1.0 / N_moji )\n",
    "p_mut_incorrect = p_mut * ( ( N_moji - 1.0 )/ N_moji )\n",
    "p_7to8 = p_mut_correct * ( 1.0 - p_mut_incorrect )**7.0\n",
    "P_7to8 = 1.0 - ( ( 1.0 - p_7to8 )**N_copy )\n",
    "\n",
    "print \"p_7to8 = {}\".format( p_7to8 )\n",
    "print \"P_7to8 = {}\".format( P_7to8 )\n",
    "print \"{} 世代\".format( 1.0 / P_7to8 )"
   ]
  },
  {
   "cell_type": "code",
   "execution_count": null,
   "metadata": {
    "collapsed": true
   },
   "outputs": [],
   "source": []
  }
 ],
 "metadata": {
  "kernelspec": {
   "display_name": "Python 2",
   "language": "python",
   "name": "python2"
  },
  "language_info": {
   "codemirror_mode": {
    "name": "ipython",
    "version": 2
   },
   "file_extension": ".py",
   "mimetype": "text/x-python",
   "name": "python",
   "nbconvert_exporter": "python",
   "pygments_lexer": "ipython2",
   "version": "2.7.13"
  }
 },
 "nbformat": 4,
 "nbformat_minor": 1
}

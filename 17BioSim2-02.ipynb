{
 "cells": [
  {
   "cell_type": "markdown",
   "metadata": {},
   "source": [
    "# 文字列の進化モデル"
   ]
  },
  {
   "cell_type": "markdown",
   "metadata": {},
   "source": [
    "ＳＦＣのキャッチフレーズ「未来からの留学生」を「正しい文字列」とする。いまから、「正しい文字列」を目指して、ランダムな文字列からはじまる「文字列の進化」のシミュレーションをしてみる。\n",
    "\n",
    "文字列に使うことのできる文字は「未」「来」「か」「ら」「の」「留」「学」「生」「慶」「應」「義」「塾」「湘」「南」「藤」「沢」の16文字だけとする。\n",
    "\n",
    "祖先となる最初の文字列（**祖先文字列**）は、ひとつひとつの文字を先の18文字からランダムに選んだ長さ８文字の文字列とする。ランダムに選ぶので、同じ文字が何回出てきても構わない。\n",
    "\n",
    "![](17BioSim2-02-fig1.png)\n"
   ]
  },
  {
   "cell_type": "markdown",
   "metadata": {},
   "source": [
    "-------------------------------------------------------------\n",
    "### Pyrhonによる四則演算\n",
    "- 足し算（a + b）　Python: `a + b`\n",
    "- 引き算（a - b）　Python: `a - b`\n",
    "- 掛け算（a × b）　Python: `a * b`\n",
    "- 引き算（a ÷ b）　Python: `a / b`\n",
    "- べき乗（a<sup>b</sup>）　Python: `a ** b`"
   ]
  },
  {
   "cell_type": "code",
   "execution_count": null,
   "metadata": {
    "collapsed": false
   },
   "outputs": [],
   "source": [
    "# Pythonによる四則演算（「#」以下はプログラムではなく「コメント」として解釈されます）\n",
    "print( 10 + 2 )\n",
    "print( 10 - 2 )\n",
    "print( 10 * 2 )\n",
    "print( 10 / 2 )\n",
    "print( 10 ** 2 )"
   ]
  },
  {
   "cell_type": "markdown",
   "metadata": {},
   "source": [
    "### [Pyrhon]  `print` 関数\n",
    "- 情報をコンソールに出力（print）する\n",
    "- `print( x )`\n",
    "  - `x`が出力される。\n",
    "- 文字列の足し算も可能\n",
    "  - 文字列は、引用符（`'`）または二重引用符（`\"`）で囲む"
   ]
  },
  {
   "cell_type": "code",
   "execution_count": null,
   "metadata": {
    "collapsed": false
   },
   "outputs": [],
   "source": [
    "print( \"S\" + \"F\" + \"C\" )"
   ]
  },
  {
   "cell_type": "markdown",
   "metadata": {},
   "source": [
    "### [Python] 変数\n",
    "\n",
    "- **変数**に値を格納できる。\n",
    "- 値は、数値でも文字列でもなんでもいい。\n",
    "- 変数の名前は半角の英数字とアンダースコア（`_`）の組み合わせ。\n",
    "  - 変数名の最初の１文字に数字は使えない。"
   ]
  },
  {
   "cell_type": "code",
   "execution_count": null,
   "metadata": {
    "collapsed": false
   },
   "outputs": [],
   "source": [
    "x = 1\n",
    "print( x )\n",
    "\n",
    "y = 2\n",
    "print( y )\n",
    "\n",
    "z = x + y\n",
    "print( z )"
   ]
  },
  {
   "cell_type": "markdown",
   "metadata": {},
   "source": [
    "-------------------------------------------------------------\n",
    "\n",
    "## 1. 祖先文字列は何種類あるか？\n",
    "\n",
    "文字列の長さは８文字。１ヶ所に使える文字は16種類。１文字なら16通り、２文字なら16×16=256通り。"
   ]
  },
  {
   "cell_type": "markdown",
   "metadata": {},
   "source": [
    "### <font color=\"Red\">訂正あり</font>\n",
    "\n",
    "- （誤）`L ** N_moji` →（正）`N_moji ** L`\n",
    "- 数百兆通りではなく、数十億通りです。スミマセン。。。"
   ]
  },
  {
   "cell_type": "code",
   "execution_count": null,
   "metadata": {
    "collapsed": false
   },
   "outputs": [],
   "source": [
    "# 利用できる文字の数を格納する変数名 N_moji\n",
    "# 文字列の長さを格納する変数名L\n",
    "\n",
    "N_moji = 16.0\n",
    "L = 8.0\n",
    "\n",
    "# 祖先文字列の種類の数\n",
    "print( N_moji ** L )"
   ]
  },
  {
   "cell_type": "markdown",
   "metadata": {},
   "source": [
    "--------------------------------------------------\n",
    "\n",
    "### Pythonの数値\n",
    "\n",
    "- Pythonには数種類の数値のリテラル（データの型）がある。整数（int）、浮動小数点数（float）など。\n",
    "- ふだんは意識しなくても困らないことが多いが、思いもよらぬ間違いに遭遇することもある。"
   ]
  },
  {
   "cell_type": "code",
   "execution_count": null,
   "metadata": {
    "collapsed": false
   },
   "outputs": [],
   "source": [
    "# 浮動小数点数の除算\n",
    "print( 1.0 / 3.0 ) \n",
    "\n",
    "# 整数の除算（整数の商を算出する）\n",
    "print 1 / 3"
   ]
  },
  {
   "cell_type": "code",
   "execution_count": null,
   "metadata": {
    "collapsed": false
   },
   "outputs": [],
   "source": [
    "# 危険な例\n",
    "print( 1.0 / 3.0 * 3.0 ) \n",
    "print( 1 / 3 * 3 ) \n",
    "print( 1 * 3 / 3 ) "
   ]
  },
  {
   "cell_type": "markdown",
   "metadata": {},
   "source": [
    "--------------------------------------------------\n",
    "\n",
    "## 2. 祖先文字列の８文字のうち、少なくとも１つが正しい確率を求めなさい。\n",
    "\n",
    "- ８文字すべてが間違っているもの以外のすべてが「少なくとも１つが正しい」\n",
    "- ある１文字が誤りである確率は 15/16、２文字つづけて誤りである確率は 15/16 × 15/16 ≒ 0.8789"
   ]
  },
  {
   "cell_type": "code",
   "execution_count": null,
   "metadata": {
    "collapsed": false
   },
   "outputs": [],
   "source": [
    "# 文字あたりの誤りである確率を格納する変数名 p_incorrect\n",
    "p_incorrect = ( N_moji - 1.0 )/ N_moji\n",
    "\n",
    "# L 文字すべてが誤りである確率を格納する変数名 p_incorrect_all\n",
    "p_incorrect_all = p_incorrect ** L\n",
    "\n",
    "# 少なくとも１文字が正しい確率を格納する変数名 p_correct_more_than_1\n",
    "p_correct_more_than_1 = 1.0 - p_incorrect_all\n",
    "\n",
    "print( p_correct_more_than_1 )"
   ]
  },
  {
   "cell_type": "markdown",
   "metadata": {},
   "source": [
    "## 3. 祖先文字列の８文字のうち、１つだけが正しい確率を求めなさい。\n",
    "\n",
    "![](17BioSim2-02-fig2.png)\n",
    "\n",
    "- 何文字目が正しいかによって、８通り（`L`通り）ある。\n",
    "- それぞれ、残りの７文字（`L-1`文字）はすべて誤りでなければならない。"
   ]
  },
  {
   "cell_type": "code",
   "execution_count": null,
   "metadata": {
    "collapsed": false
   },
   "outputs": [],
   "source": [
    "# ある１文字が正しい確率 p_correct\n",
    "p_correct = 1.0 / N_moji\n",
    "\n",
    "# １文字が正しく、残る L - 1 文字が誤っている確率（仮の変数 _p に格納）\n",
    "_p = p_correct * p_incorrect ** ( L - 1 )\n",
    "\n",
    "# どの１文字が正しいかは L 通りあるので、求める確率は（_pを上書き）\n",
    "_p = L * _p\n",
    "\n",
    "print( _p )"
   ]
  },
  {
   "cell_type": "markdown",
   "metadata": {},
   "source": [
    "--------------------------------------------------\n",
    "\n",
    "# 世代交代\n",
    "\n",
    "祖先文字列のコピーを10個つくる。\n",
    "\n",
    "![](17BioSim2-02-fig4.png)\n",
    "\n",
    "各文字をコピーする時、0.99（99％）の確率で元と同じ文字が組み込まれるが、0.01（1％）の確率で「突然変異」が起き、元とは違う文字が組み込まれる。文字は、元とは違う15文字の中からランダムに選ばれる。\n",
    "\n",
    "![](17BioSim2-02-fig3.png)"
   ]
  },
  {
   "cell_type": "markdown",
   "metadata": {},
   "source": [
    "## 4. 祖先文字列に正しい文字が１つもなかったとする。10個のコピーのうち少なくとも１つのコピーで、少なくとも１文字が正しい確率を求めなさい。\n",
    "\n",
    "10個のコピーのうち少なくとも１つのコピーで少なくとも１文字が正しい\n",
    "\n",
    "＝10個のコピーに含まれる80文字のうち１文字以上が正しい\n",
    "\n",
    "＝80文字すべてが誤っているもの以外のすべて"
   ]
  },
  {
   "cell_type": "code",
   "execution_count": null,
   "metadata": {
    "collapsed": false
   },
   "outputs": [],
   "source": [
    "# 変異確率 p_mut、世代あたりのコピーの数 N_copy\n",
    "p_mut = 0.01\n",
    "N_copy = 10\n",
    "\n",
    "# 誤った文字がコピーされた際に、変異が起きて正しくなる確率 p_mut_to_correct\n",
    "p_mut_to_correct = p_mut * ( 1.0 / ( N_moji - 1.0 ))\n",
    "\n",
    "print( p_mut_to_correct )\n",
    "\n",
    "_p = 1.0 - ( 1.0 - p_mut_to_correct ) ** ( L * N_copy )\n",
    "\n",
    "print( _p )"
   ]
  },
  {
   "cell_type": "markdown",
   "metadata": {},
   "source": [
    "### 計算のヒント\n",
    "*x* が小さく *n* が大きい場合に、 ( 1 - *x* )<sup>n</sup> = *e*<sup>-nx</sup> で近似してよい。*e* は自然対数。"
   ]
  },
  {
   "cell_type": "markdown",
   "metadata": {},
   "source": [
    "## 6. 世代を重ねていくと、やがて、８文字のうち７文字が正しい文字列が「親」になる。そのような「親」からつくられた10個のコピーの中に８文字すべてが正しい文字列が１つ以上ある確率を求めなさい。"
   ]
  },
  {
   "cell_type": "markdown",
   "metadata": {},
   "source": [
    "- まず１つのコピーが８文字すべて正しくなる確率を求める。\n",
    "- そのためには……\n",
    "  - 誤っている１文字に変異が起こり、正しい文字に変わらなければならない。\n",
    "  - すでに正しい７文字が、間違った文字に変わるような突然変異は１つも起こってはならない。"
   ]
  },
  {
   "cell_type": "code",
   "execution_count": null,
   "metadata": {
    "collapsed": false
   },
   "outputs": [],
   "source": [
    "# すでに正しい文字は、変異すると必ず誤った文字に変わるので、\n",
    "# 正しい文字が誤った文字に変異する確率は 変異確率 p_mut に等しい\n",
    "\n",
    "# もとめる確率は、すでに正しい７文字に変異が起こらず、誤っている１文字に変異が起きて、\n",
    "# 正しい文字に変わる確率（p_7to8）\n",
    "\n",
    "p_last1 = p_mut_to_correct * ( 1.0 - p_mut )**( L - 1.0 )\n",
    "\n",
    "print( p_last1 )"
   ]
  },
  {
   "cell_type": "code",
   "execution_count": null,
   "metadata": {
    "collapsed": false
   },
   "outputs": [],
   "source": [
    "# 10個のコピーが１つも８文字正しくならない確率\n",
    "_p = ( 1.0 - p_last1 )**N_copy\n",
    "\n",
    "print( _p )"
   ]
  },
  {
   "cell_type": "code",
   "execution_count": null,
   "metadata": {
    "collapsed": false
   },
   "outputs": [],
   "source": [
    "# ７文字が正しい10個のコピーのうち少なくとも１つが８文字正しくなる確率 p_7to8_in_all\n",
    "p_last1_in_all = 1.0 - ( ( 1.0 - p_last1 )**N_copy )\n",
    "print( p_last1_in_all )"
   ]
  },
  {
   "cell_type": "markdown",
   "metadata": {},
   "source": [
    "--------------------------------------------------\n",
    "\n",
    "### [Python] 文字列フォーマット `format()`\n",
    "\n",
    "- ある決まったパターン（テンプレート）の中に値を埋め込む際に便利\n",
    "- 形式：`x.format( y1, y2, ... )`\n",
    "  - `x`: テンプレート文字列。値を埋め込みたい部分を `{}` と書く\n",
    "  - `y1, y2,...`: テンプレートないの `{}` を置き換える値。"
   ]
  },
  {
   "cell_type": "code",
   "execution_count": null,
   "metadata": {
    "collapsed": false
   },
   "outputs": [],
   "source": [
    "# 学籍番号：○○○○○○，　氏名：○○○○ をフォーマットする例\n",
    "template = \"学籍番号：{}，　氏名：{}\"\n",
    "\n",
    "print( template.format( 71799999, \"慶應 次郎\" ) )"
   ]
  },
  {
   "cell_type": "markdown",
   "metadata": {},
   "source": [
    "--------------------------------------------------\n",
    "\n",
    "## 7. ７文字が正しい文字列から、８文字すべてが正しくなるまでに、だいたいどのくらいの世代がかかるだろうか。"
   ]
  },
  {
   "cell_type": "code",
   "execution_count": null,
   "metadata": {
    "collapsed": false
   },
   "outputs": [],
   "source": [
    "print \"{} 世代\".format( 1.0 / p_last1_in_all )"
   ]
  },
  {
   "cell_type": "markdown",
   "metadata": {},
   "source": [
    "## 8. １文字も合っていない祖先文字列から、８文字すべてが正しくなるまでに、だいたいどのくらいの世代がかかるだろうか。\n",
    "\n",
    "### <font color=\"Red\">訂正あり</font>"
   ]
  },
  {
   "cell_type": "code",
   "execution_count": null,
   "metadata": {
    "collapsed": false
   },
   "outputs": [],
   "source": [
    "# ６文字正しい文字列が７文字（以上）正しくなる確率 p_6to7\n",
    "\n",
    "# 正しい６文字がそのまま維持されて、誤った２文字から正しい文字が現れる確率\n",
    "# （８文字揃ってしまう確率も含んでいるが非常に小さいので無視してかまわない）\n",
    "p_last2 = ( 1.0 - ( 1.0 - p_mut_to_correct ) ** 2.0 ) * ( 1.0 - p_mut )**( L - 2.0 )\n",
    "\n",
    "# 正しい６文字のうち１文字が誤りに変異し、誤った２文字が両方正しく変異する確率\n",
    "# （１万分の１程度しか変わらないので無視してもかまわない）\n",
    "p_last2 +=  ( p_mut_to_correct ** 2.0 ) * 6.0 * p_mut * ( 1.0 - p_mut )**( L - 3.0 )\n",
    "\n",
    "print( p_last2 )"
   ]
  },
  {
   "cell_type": "code",
   "execution_count": null,
   "metadata": {
    "collapsed": false
   },
   "outputs": [],
   "source": [
    "# ６文字が正しい10個のコピーにうち少なくとも１つが７文字（以上）正しくなる確率 P_6to7\n",
    "p_last2_in_all = 1.0 - ( ( 1.0 - p_last2 )**N_copy )\n",
    "print( p_last2_in_all )"
   ]
  },
  {
   "cell_type": "code",
   "execution_count": null,
   "metadata": {
    "collapsed": false
   },
   "outputs": [],
   "source": [
    "print \"{} 世代\".format( 1.0 / p_last2_in_all )"
   ]
  },
  {
   "cell_type": "markdown",
   "metadata": {},
   "source": [
    "Ans. 数百世代"
   ]
  },
  {
   "cell_type": "markdown",
   "metadata": {},
   "source": [
    "## 9. 突然変異が起こる確率が0.01（1％）から0.1（10％）に増えると、問8でかかる世代数は短くなるだろうか。考察しなさい。"
   ]
  },
  {
   "cell_type": "code",
   "execution_count": null,
   "metadata": {
    "collapsed": false
   },
   "outputs": [],
   "source": [
    "# 問１〜問７までに書いたプログラムを集約してみる。\n",
    "\n",
    "L = 8\n",
    "N_moji = 16\n",
    "N_copy = 10\n",
    "p_mut = 0.01\n",
    "\n",
    "p_mut_to_correct = p_mut * ( 1.0 / ( N_moji - 1.0 ))\n",
    "p_last1 = p_mut_to_correct * ( 1.0 - p_mut )**( L - 1.0 )\n",
    "p_last1_in_all = 1.0 - ( ( 1.0 - p_last1 )**N_copy )\n",
    "\n",
    "print \"p_last1 = {}\".format( p_last1 )\n",
    "print \"p_last1_in_all = {}\".format( p_last1_in_all )\n",
    "print \"{} 世代\".format( 1.0 / p_last1_in_all )"
   ]
  },
  {
   "cell_type": "markdown",
   "metadata": {
    "collapsed": true
   },
   "source": [
    "## 10. 文字列の長さが10倍の80文字の場合、問９の結論は変わるだろうか。考察しなさい。"
   ]
  },
  {
   "cell_type": "code",
   "execution_count": null,
   "metadata": {
    "collapsed": false,
    "scrolled": false
   },
   "outputs": [],
   "source": [
    "# 解答欄"
   ]
  },
  {
   "cell_type": "markdown",
   "metadata": {},
   "source": [
    "--------------------------------------------------\n",
    "\n",
    "### [Python] 関数\n",
    "\n",
    "- よく使う機能を、簡単な記述で利用できるようにパッケージ化したもの。\n",
    "  - 利用するたびに異なる値を **引数** として関数に渡すと、関数ごとに決まった計算が行われて、**戻り値** が返ってくる。\n",
    "  - 引数は、関数名のあとのカッコ内に、コンマ区切りで列挙する。引数がない場合にも、空のカッコをつける。\n",
    "  - `print()` や `format()` も関数。\n",
    "\n",
    "![](17BioSim2-02-fig5.png)\n",
    "\n",
    "- 例として、べき乗を計算する関数 `pow()` を使ってみる。`pow()` は、２つの引数をとる。\n",
    "  - ２つの引数 `a, b` を `pow(a, b)` のように渡すと、a<sup>b</sup> を計算して、戻り値として返してくれる。\n",
    "\n",
    "![](17BioSim2-02-fig6.png)"
   ]
  },
  {
   "cell_type": "code",
   "execution_count": null,
   "metadata": {
    "collapsed": false
   },
   "outputs": [],
   "source": [
    "pow( 2, 3 )"
   ]
  },
  {
   "cell_type": "markdown",
   "metadata": {},
   "source": [
    "\n",
    "### [Python] 関数の定義\n",
    "\n",
    "- ユーザは、オリジナルの関数をつくることができる。以下のように記述する。\n",
    "\n",
    "    def 〔関数名〕( 〔引数名1〕, 〔引数名2〕,... ):\n",
    "        〔関数が行う計算〕\n",
    "          :\n",
    "          :\n",
    "        return 〔戻り値〕\n",
    "\n",
    "- Pythonは **字下げでブロックの範囲を表現する**\n",
    "- `def xxxxx():` 文で関数の定義を開始した次の行から、字下げする。\n",
    "  - 字下げがつづく限り、すべて関数の定義（`def`文の影響下）と判断される。"
   ]
  },
  {
   "cell_type": "code",
   "execution_count": null,
   "metadata": {
    "collapsed": false
   },
   "outputs": [],
   "source": [
    "# 関数の例　３つの引数 x, y, z の和を求める関数 wa()\n",
    "\n",
    "def wa( x, y, z ):\n",
    "    wa = x + y + z\n",
    "    return wa\n",
    "\n",
    "# 関数 wa() を使ってみる。\n",
    "\n",
    "wa( 5, 50, 500 )"
   ]
  },
  {
   "cell_type": "markdown",
   "metadata": {},
   "source": [
    "### [Python] 繰り返し処理 `for`文\n",
    "\n",
    "- Pythonには、繰り返し処理を効率的に書ける仕組みがいくつか用意されている。\n",
    "- `for`文はそのひとつ\n",
    "\n",
    "    for 〔変数〕in 〔リスト〕:\n",
    "        〔繰り返し行う計算〕\n",
    "          :\n",
    "          :\n",
    "\n",
    "- **リスト** の **要素** を順番に **ひとつずつ** 取りだして、**変数** に代入してくれる。\n",
    "- **リスト** は角カッコ `[ ]` で囲って表記する。例：`[1, 2, 3, 4, 5]`"
   ]
  },
  {
   "cell_type": "code",
   "execution_count": null,
   "metadata": {
    "collapsed": false
   },
   "outputs": [],
   "source": [
    "#リストから要素をひとつずつ取りだして、その２乗を表示（print）する繰り返し処理\n",
    "\n",
    "for i in [1,2,3,4,5]:\n",
    "    print( i ** 2 )"
   ]
  },
  {
   "cell_type": "code",
   "execution_count": null,
   "metadata": {
    "collapsed": false
   },
   "outputs": [],
   "source": [
    "for i in range( 1, 6 ):\n",
    "    print( i ** 2 )"
   ]
  },
  {
   "cell_type": "markdown",
   "metadata": {},
   "source": [
    "- 整数のリストを簡単につくってくれる関数 **range()** を利用すると便利。\n",
    "- `range(5)` は、０から５未満（＝４まで）を含む整数のリストを返す。\n",
    "- `range(1,5)` は、５未満（＝４まで）を含む整数のリストを返す。"
   ]
  },
  {
   "cell_type": "markdown",
   "metadata": {},
   "source": [
    "## 問８を解析的に解く\n",
    "\n",
    "問８をまじめに解くために、n字が正しい状態から、n+1文字正しい子が出現するまでにかかる平均世代数を求める関数をつくる。"
   ]
  },
  {
   "cell_type": "code",
   "execution_count": null,
   "metadata": {
    "collapsed": false
   },
   "outputs": [],
   "source": [
    "import itertools  # 順列、組み合わせなどの実装に便利なモジュール\n",
    "\n",
    "def gen_for_plus1( n_correct, genome_size, pop_size, p_m, alph_size ):\n",
    "    # n_correct:   現在の個体の正しい文字数\n",
    "    # genome_size: １個体の長さ\n",
    "    # pop_size:    コピーされる子の数\n",
    "    # p_m:         変異確率\n",
    "    # alph_size:   文字の種類\n",
    "    \n",
    "    p_mut_correct = p_m * ( 1.0 / ( alph_size - 1.0 ))\n",
    "    \n",
    "    # n_correct:   現在の個体の誤っている文字数\n",
    "    n_incorrect =  genome_size - n_correct\n",
    "\n",
    "    # 正しい文字のうち、i 文字が変異によって誤りに変わり、\n",
    "    # 誤った文字のうち、i + 1 文字が変異によって正しくなる確率を\n",
    "    # for文で累積する。\n",
    "    # 一度に正しい文字が２文字以上増える場合があるが、その確率は小さい\n",
    "    # とみなして、無視する。\n",
    "    p_plus1 = 0.0\n",
    "    for i in range( min([ n_correct + 1, n_incorrect ])):\n",
    "        # 組み合わせの数\n",
    "        _C = len( list( itertools.combinations( range( n_correct ), i ))) \\\n",
    "           * len( list( itertools.combinations( range( genome_size - n_correct ), i + 1 )))\n",
    "        \n",
    "        # 正しいi文字が誤りに変異し、誤ったi+1文字が正しく変異する確率を足し合わせる\n",
    "        p_plus1 += _C * p_m**i * ( 1.0 - p_m )**( n_correct - i ) \\\n",
    "                   * p_mut_correct**( i + 1 ) * ( 1.0 - p_m )**( genome_size - n_correct - ( i + 1 ) )\n",
    "    \n",
    "    p_plus1_in_all = 1.0 - ( ( 1.0 - p_plus1 )**pop_size )\n",
    "    \n",
    "    # 必要な世代数の平均値を戻り値として返すので、確率の逆数を計算する。\n",
    "    return 1.0 / p_plus1_in_all\n",
    "\n",
    "print( \"7→8 = {}\".format( gen_for_plus1( 7, 8, 10, 0.01, 16 )))\n",
    "print( \"6→7 = {}\".format( gen_for_plus1( 6, 8, 10, 0.01, 16 )))\n",
    "print( \"5→6 = {}\".format( gen_for_plus1( 5, 8, 10, 0.01, 16 )))\n",
    "print( \"4→5 = {}\".format( gen_for_plus1( 4, 8, 10, 0.01, 16 )))\n",
    "print( \"3→4 = {}\".format( gen_for_plus1( 3, 8, 10, 0.01, 16 )))\n",
    "print( \"2→3 = {}\".format( gen_for_plus1( 2, 8, 10, 0.01, 16 )))\n",
    "print( \"1→2 = {}\".format( gen_for_plus1( 1, 8, 10, 0.01, 16 )))\n",
    "print( \"0→1 = {}\".format( gen_for_plus1( 0, 8, 10, 0.01, 16 )))"
   ]
  },
  {
   "cell_type": "code",
   "execution_count": null,
   "metadata": {
    "collapsed": false
   },
   "outputs": [],
   "source": [
    "# 関数 gen_for_plus1() を繰り返し処理で用いて、問８を解いてみる\n",
    "\n",
    "_L = 8\n",
    "_p_mut = 0.01\n",
    "\n",
    "# 必要な世代の合計を格納する変数\n",
    "total_generation = 0  \n",
    "\n",
    "for i in range( _L ):\n",
    "    total_generation += gen_for_plus1( i, _L, 10, _p_mut, 16 )\n",
    "\n",
    "print( total_generation )"
   ]
  },
  {
   "cell_type": "code",
   "execution_count": null,
   "metadata": {
    "collapsed": true
   },
   "outputs": [],
   "source": []
  }
 ],
 "metadata": {
  "kernelspec": {
   "display_name": "Python 2",
   "language": "python",
   "name": "python2"
  },
  "language_info": {
   "codemirror_mode": {
    "name": "ipython",
    "version": 2
   },
   "file_extension": ".py",
   "mimetype": "text/x-python",
   "name": "python",
   "nbconvert_exporter": "python",
   "pygments_lexer": "ipython2",
   "version": "2.7.13"
  }
 },
 "nbformat": 4,
 "nbformat_minor": 1
}

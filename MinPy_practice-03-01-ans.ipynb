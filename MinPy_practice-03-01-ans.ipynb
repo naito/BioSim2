{
 "cells": [
  {
   "cell_type": "markdown",
   "metadata": {},
   "source": [
    "# Pythonの基礎をマスターする"
   ]
  },
  {
   "cell_type": "markdown",
   "metadata": {},
   "source": [
    "# 01 ディクショナリ（辞書）を使う"
   ]
  },
  {
   "cell_type": "markdown",
   "metadata": {},
   "source": [
    "次のセルに定義した辞書 `inui` は[サッカー日本代表のwebページ](http://www.jfa.jp/samuraiblue/member/)から抽出した乾選手の情報です。"
   ]
  },
  {
   "cell_type": "code",
   "execution_count": 1,
   "metadata": {
    "collapsed": false
   },
   "outputs": [
    {
     "data": {
      "text/plain": [
       "{'birthday': '1988.06.02',\n",
       " 'height': '169cm',\n",
       " 'name': 'INUI Takashi',\n",
       " 'number': '14',\n",
       " 'position': 'FW',\n",
       " 'team': 'SD Eibar (Spain)',\n",
       " 'weight': '59kg'}"
      ]
     },
     "execution_count": 1,
     "metadata": {},
     "output_type": "execute_result"
    }
   ],
   "source": [
    "inui = {\n",
    "    \"name\"     : \"INUI Takashi\",\n",
    "    \"number\"   : \"14\",\n",
    "    \"position\" : \"FW\",\n",
    "    \"birthday\" : \"1988.06.02\",\n",
    "    \"height\"   : \"169cm\",\n",
    "    \"weight\"   : \"59kg\",\n",
    "    \"team\"     : \"SD Eibar (Spain)\",\n",
    "}\n",
    "\n",
    "inui"
   ]
  },
  {
   "cell_type": "markdown",
   "metadata": {},
   "source": [
    "## Practice 1\n",
    "\n",
    "辞書 `inui` から、乾選手の所属チーム（`\"team\"`）を抽出しなさい。"
   ]
  },
  {
   "cell_type": "code",
   "execution_count": 2,
   "metadata": {
    "collapsed": false
   },
   "outputs": [
    {
     "data": {
      "text/plain": [
       "'SD Eibar (Spain)'"
      ]
     },
     "execution_count": 2,
     "metadata": {},
     "output_type": "execute_result"
    }
   ],
   "source": [
    "# 解答欄\n",
    "inui['team']"
   ]
  },
  {
   "cell_type": "markdown",
   "metadata": {},
   "source": [
    "## Practice 2\n",
    "\n",
    "辞書 `inui` 内の、乾選手の背番号（`\"number\"`）を `8` に変更しなさい。"
   ]
  },
  {
   "cell_type": "code",
   "execution_count": 3,
   "metadata": {
    "collapsed": false
   },
   "outputs": [
    {
     "data": {
      "text/plain": [
       "8"
      ]
     },
     "execution_count": 3,
     "metadata": {},
     "output_type": "execute_result"
    }
   ],
   "source": [
    "# 解答欄\n",
    "inui['number'] = 8\n",
    "inui['number']"
   ]
  },
  {
   "cell_type": "markdown",
   "metadata": {},
   "source": [
    "## Practice 3\n",
    "\n",
    "辞書 `inui` に以下の情報（キーと値）を追加しなさい。\n",
    "\n",
    "|項目|キー|値|\n",
    "|:-:|:-:|:-:|\n",
    "|出場試合数|\"games played\"|22|\n",
    "|ゴール数|\"goals\"|2|\n",
    "\n",
    "辞書 `inui` の内容を出力して、正しく追加されているか確認しなさい。"
   ]
  },
  {
   "cell_type": "code",
   "execution_count": 5,
   "metadata": {
    "collapsed": false
   },
   "outputs": [
    {
     "name": "stdout",
     "output_type": "stream",
     "text": [
      "22\n",
      "2\n"
     ]
    }
   ],
   "source": [
    "# 解答欄\n",
    "inui[\"games played\"] = 22\n",
    "inui[\"goals\"] = 2\n",
    "print inui[\"games played\"]\n",
    "print inui[\"goals\"]"
   ]
  },
  {
   "cell_type": "markdown",
   "metadata": {},
   "source": [
    "## Practice 4\n",
    "\n",
    "辞書 `inui` 内の、要素の出場試合数（`\"games played\"`）を削除して、削除できていることを確認しなさい。"
   ]
  },
  {
   "cell_type": "code",
   "execution_count": 6,
   "metadata": {
    "collapsed": false
   },
   "outputs": [
    {
     "ename": "KeyError",
     "evalue": "'games played'",
     "output_type": "error",
     "traceback": [
      "\u001b[0;31m---------------------------------------------------------------------------\u001b[0m",
      "\u001b[0;31mKeyError\u001b[0m                                  Traceback (most recent call last)",
      "\u001b[0;32m<ipython-input-6-5e7af789c66f>\u001b[0m in \u001b[0;36m<module>\u001b[0;34m()\u001b[0m\n\u001b[1;32m      1\u001b[0m \u001b[0;31m# 解答欄\u001b[0m\u001b[0;34m\u001b[0m\u001b[0;34m\u001b[0m\u001b[0m\n\u001b[1;32m      2\u001b[0m \u001b[0;32mdel\u001b[0m \u001b[0minui\u001b[0m\u001b[0;34m[\u001b[0m\u001b[0;34m\"games played\"\u001b[0m\u001b[0;34m]\u001b[0m\u001b[0;34m\u001b[0m\u001b[0m\n\u001b[0;32m----> 3\u001b[0;31m \u001b[0;32mprint\u001b[0m \u001b[0minui\u001b[0m\u001b[0;34m[\u001b[0m\u001b[0;34m\"games played\"\u001b[0m\u001b[0;34m]\u001b[0m\u001b[0;34m\u001b[0m\u001b[0m\n\u001b[0m",
      "\u001b[0;31mKeyError\u001b[0m: 'games played'"
     ]
    }
   ],
   "source": [
    "# 解答欄\n",
    "del inui[\"games played\"]\n",
    "print inui[\"games played\"]"
   ]
  },
  {
   "cell_type": "markdown",
   "metadata": {},
   "source": [
    "## Practice 5\n",
    "\n",
    "辞書 `inui` が、キー `\"number\"`を持っているならその値を表示し、そのようなキーを持っていない場合には `\"no information\"` と表示するプログラムを書きなさい。"
   ]
  },
  {
   "cell_type": "code",
   "execution_count": 7,
   "metadata": {
    "collapsed": false
   },
   "outputs": [
    {
     "name": "stdout",
     "output_type": "stream",
     "text": [
      "8\n"
     ]
    }
   ],
   "source": [
    "# 解答欄\n",
    "\n",
    "if \"number\" in inui:\n",
    "    print( inui[\"number\"] )\n",
    "else:\n",
    "    print( \"no information\" )"
   ]
  },
  {
   "cell_type": "markdown",
   "metadata": {},
   "source": [
    "## Practice 6\n",
    "\n",
    "辞書 `inui` のキーと値を組にして１行ずつ表示するプログラムを書きなさい（みんなのPython第４版 122〜123ページ）。"
   ]
  },
  {
   "cell_type": "code",
   "execution_count": 10,
   "metadata": {
    "collapsed": false
   },
   "outputs": [
    {
     "name": "stdout",
     "output_type": "stream",
     "text": [
      "name : INUI Takashi\n",
      "weight : 59kg\n",
      "number : 8\n",
      "height : 169cm\n",
      "birthday : 1988.06.02\n",
      "goals : 2\n",
      "team : SD Eibar (Spain)\n",
      "position : FW\n"
     ]
    }
   ],
   "source": [
    "# 解答欄\n",
    "\n",
    "for key in inui:\n",
    "    print str(key) + \" : \" + str(inui[key])\n"
   ]
  },
  {
   "cell_type": "markdown",
   "metadata": {},
   "source": [
    "## Practice 7\n",
    "\n",
    "下のセルに定義した `samurai_blue` は、キリンチャレンジカップ2017の招集メンバーの情報を収めた辞書のリストです。\n",
    "\n",
    "このリストを使って、招集メンバーの、氏名、背番号、ポジションを１行ずつ列挙するプログラムを書きなさい。リストと辞書を組み合わせて使う練習問題です。"
   ]
  },
  {
   "cell_type": "code",
   "execution_count": 11,
   "metadata": {
    "collapsed": false
   },
   "outputs": [
    {
     "data": {
      "text/plain": [
       "[{'birthday': '1983.03.20',\n",
       "  'height': '185cm',\n",
       "  'name': 'KAWASHIMA Eiji',\n",
       "  'number': '1',\n",
       "  'position': 'GK',\n",
       "  'team': 'Football Club de Metz (France)',\n",
       "  'weight': '74kg'},\n",
       " {'birthday': '1986.05.12',\n",
       "  'height': '184cm',\n",
       "  'name': 'HIGASHIGUCHI Masaaki',\n",
       "  'number': '12',\n",
       "  'position': 'GK',\n",
       "  'team': 'Gamba Osaka',\n",
       "  'weight': '78kg'},\n",
       " {'birthday': '1995.02.27',\n",
       "  'height': '184cm',\n",
       "  'name': 'NAKAMURA Kosuke',\n",
       "  'number': '23',\n",
       "  'position': 'GK',\n",
       "  'team': 'Kashiwa Reysol',\n",
       "  'weight': '72kg'},\n",
       " {'birthday': '1986.09.12',\n",
       "  'height': '170cm',\n",
       "  'name': 'NAGATOMO Yuto',\n",
       "  'number': '5',\n",
       "  'position': 'DF',\n",
       "  'team': 'FC Internazionale Milano (Italy)',\n",
       "  'weight': '68kg'},\n",
       " {'birthday': '1987.05.11',\n",
       "  'height': '182cm',\n",
       "  'name': 'MAKINO Tomoaki',\n",
       "  'number': '20',\n",
       "  'position': 'DF',\n",
       "  'team': 'Urawa Red Diamonds',\n",
       "  'weight': '77kg'},\n",
       " {'birthday': '1988.08.24',\n",
       "  'height': '189cm',\n",
       "  'name': 'YOSHIDA Maya',\n",
       "  'number': '22',\n",
       "  'position': 'DF',\n",
       "  'team': 'Southampton FC (England)',\n",
       "  'weight': '78kg'},\n",
       " {'birthday': '1990.04.12',\n",
       "  'height': '183cm',\n",
       "  'name': 'SAKAI Hiroki',\n",
       "  'number': '19',\n",
       "  'position': 'DF',\n",
       "  'team': 'Olympique de Marseille (France)',\n",
       "  'weight': '70kg'},\n",
       " {'birthday': '1991.03.14',\n",
       "  'height': '176cm',\n",
       "  'name': 'SAKAI Gotoku',\n",
       "  'number': '21',\n",
       "  'position': 'DF',\n",
       "  'team': 'Hamburger SV (Germany)',\n",
       "  'weight': '74kg'},\n",
       " {'birthday': '1992.04.05',\n",
       "  'height': '178cm',\n",
       "  'name': 'KURUMAYA Shintaro',\n",
       "  'number': '24',\n",
       "  'position': 'DF',\n",
       "  'team': 'Kawasaki Frontale',\n",
       "  'weight': '73kg'},\n",
       " {'birthday': '1992.12.11',\n",
       "  'height': '182cm',\n",
       "  'name': 'SHOJI Gen',\n",
       "  'number': '3',\n",
       "  'position': 'DF',\n",
       "  'team': 'Kashima Antlers',\n",
       "  'weight': '74kg'},\n",
       " {'birthday': '1994.10.24',\n",
       "  'height': '186cm',\n",
       "  'name': 'UEDA Naomichi',\n",
       "  'number': '4',\n",
       "  'position': 'DF',\n",
       "  'team': 'Kashima Antlers',\n",
       "  'weight': '79kg'},\n",
       " {'birthday': '1988.11.26',\n",
       "  'height': '172cm',\n",
       "  'name': 'KURATA Shu',\n",
       "  'number': '7',\n",
       "  'position': 'MF',\n",
       "  'team': 'Gamba Osaka',\n",
       "  'weight': '68kg'},\n",
       " {'birthday': '1989.03.17',\n",
       "  'height': '175cm',\n",
       "  'name': 'KAGAWA Shinji',\n",
       "  'number': '10',\n",
       "  'position': 'MF',\n",
       "  'team': 'Borussia Dortmund (Germany)',\n",
       "  'weight': '68kg'},\n",
       " {'birthday': '1990.10.06',\n",
       "  'height': '173cm',\n",
       "  'name': 'YAMAGUCHI Hotaru',\n",
       "  'number': '16',\n",
       "  'position': 'MF',\n",
       "  'team': 'Cerezo Osaka',\n",
       "  'weight': '72kg'},\n",
       " {'birthday': '1992.04.24',\n",
       "  'height': '182cm',\n",
       "  'name': 'KOBAYASHI Yuki',\n",
       "  'number': '17',\n",
       "  'position': 'MF',\n",
       "  'team': 'Sport Club Heerenveen (Netherlands)',\n",
       "  'weight': '72kg'},\n",
       " {'birthday': '1993.02.09',\n",
       "  'height': '178cm',\n",
       "  'name': 'ENDO Wataru',\n",
       "  'number': '6',\n",
       "  'position': 'MF',\n",
       "  'team': 'Urawa Red Diamonds',\n",
       "  'weight': '75kg'},\n",
       " {'birthday': '1996.08.23',\n",
       "  'height': '171cm',\n",
       "  'name': 'IDEGUCHI Yosuke',\n",
       "  'number': '2',\n",
       "  'position': 'MF',\n",
       "  'team': 'Gamba Osaka',\n",
       "  'weight': '71kg'},\n",
       " {'birthday': '1988.06.02',\n",
       "  'height': '169cm',\n",
       "  'name': 'INUI Takashi',\n",
       "  'number': '14',\n",
       "  'position': 'FW',\n",
       "  'team': 'SD Eibar (Spain)',\n",
       "  'weight': '59kg'},\n",
       " {'birthday': '1990.05.18',\n",
       "  'height': '182cm',\n",
       "  'name': 'OSAKO Yuya',\n",
       "  'number': '15',\n",
       "  'position': 'FW',\n",
       "  'team': '1.FC K\\xc3\\xb6ln (Germany)',\n",
       "  'weight': '71kg'},\n",
       " {'birthday': '1991.05.09',\n",
       "  'height': '177cm',\n",
       "  'name': 'HARAGUCHI Genki',\n",
       "  'number': '8',\n",
       "  'position': 'FW',\n",
       "  'team': 'Hertha BSC Berlin (Germany)',\n",
       "  'weight': '68kg'},\n",
       " {'birthday': '1992.07.15',\n",
       "  'height': '179cm',\n",
       "  'name': 'MUTO Yoshinori',\n",
       "  'number': '9',\n",
       "  'position': 'FW',\n",
       "  'team': '1.FSV Mainz 05 (Germany)',\n",
       "  'weight': '72kg'},\n",
       " {'birthday': '1992.11.18',\n",
       "  'height': '187cm',\n",
       "  'name': 'SUGIMOTO Kenyu',\n",
       "  'number': '13',\n",
       "  'position': 'FW',\n",
       "  'team': 'Cerezo Osaka',\n",
       "  'weight': '79kg'},\n",
       " {'birthday': '1993.12.24',\n",
       "  'height': '178cm',\n",
       "  'name': 'KUBO Yuya',\n",
       "  'number': '11',\n",
       "  'position': 'FW',\n",
       "  'team': 'KAA Gent (Belgium)',\n",
       "  'weight': '72kg'},\n",
       " {'birthday': '1994.11.10',\n",
       "  'height': '173cm',\n",
       "  'name': 'ASANO Takuma',\n",
       "  'number': '18',\n",
       "  'position': 'FW',\n",
       "  'team': 'VfB Stuttgart (Germany)',\n",
       "  'weight': '71kg'}]"
      ]
     },
     "execution_count": 11,
     "metadata": {},
     "output_type": "execute_result"
    }
   ],
   "source": [
    "samurai_blue = [\n",
    "    {\n",
    "        \"name\"     : \"KAWASHIMA Eiji\",\n",
    "        \"number\"   : \"1\",\n",
    "        \"position\" : \"GK\",\n",
    "        \"birthday\" : \"1983.03.20\",\n",
    "        \"height\"   : \"185cm\",\n",
    "        \"weight\"   : \"74kg\",\n",
    "        \"team\"     : \"Football Club de Metz (France)\",\n",
    "    },\n",
    "    \n",
    "    {\n",
    "        \"name\"     : \"HIGASHIGUCHI Masaaki\",\n",
    "        \"number\"   : \"12\",\n",
    "        \"position\" : \"GK\",\n",
    "        \"birthday\" : \"1986.05.12\",\n",
    "        \"height\"   : \"184cm\",\n",
    "        \"weight\"   : \"78kg\",\n",
    "        \"team\"     : \"Gamba Osaka\",\n",
    "    },\n",
    "    \n",
    "    {\n",
    "        \"name\"     : \"NAKAMURA Kosuke\",\n",
    "        \"number\"   : \"23\",\n",
    "        \"position\" : \"GK\",\n",
    "        \"birthday\" : \"1995.02.27\",\n",
    "        \"height\"   : \"184cm\",\n",
    "        \"weight\"   : \"72kg\",\n",
    "        \"team\"     : \"Kashiwa Reysol\",\n",
    "    },\n",
    "    \n",
    "    {\n",
    "        \"name\"     : \"NAGATOMO Yuto\",\n",
    "        \"number\"   : \"5\",\n",
    "        \"position\" : \"DF\",\n",
    "        \"birthday\" : \"1986.09.12\",\n",
    "        \"height\"   : \"170cm\",\n",
    "        \"weight\"   : \"68kg\",\n",
    "        \"team\"     : \"FC Internazionale Milano (Italy)\",\n",
    "    },\n",
    "    \n",
    "    {\n",
    "        \"name\"     : \"MAKINO Tomoaki\",\n",
    "        \"number\"   : \"20\",\n",
    "        \"position\" : \"DF\",\n",
    "        \"birthday\" : \"1987.05.11\",\n",
    "        \"height\"   : \"182cm\",\n",
    "        \"weight\"   : \"77kg\",\n",
    "        \"team\"     : \"Urawa Red Diamonds\",\n",
    "    },\n",
    "    \n",
    "    {\n",
    "        \"name\"     : \"YOSHIDA Maya\",\n",
    "        \"number\"   : \"22\",\n",
    "        \"position\" : \"DF\",\n",
    "        \"birthday\" : \"1988.08.24\",\n",
    "        \"height\"   : \"189cm\",\n",
    "        \"weight\"   : \"78kg\",\n",
    "        \"team\"     : \"Southampton FC (England)\",\n",
    "    },\n",
    "    \n",
    "    {\n",
    "        \"name\"     : \"SAKAI Hiroki\",\n",
    "        \"number\"   : \"19\",\n",
    "        \"position\" : \"DF\",\n",
    "        \"birthday\" : \"1990.04.12\",\n",
    "        \"height\"   : \"183cm\",\n",
    "        \"weight\"   : \"70kg\",\n",
    "        \"team\"     : \"Olympique de Marseille (France)\",\n",
    "    },\n",
    "    \n",
    "    {\n",
    "        \"name\"     : \"SAKAI Gotoku\",\n",
    "        \"number\"   : \"21\",\n",
    "        \"position\" : \"DF\",\n",
    "        \"birthday\" : \"1991.03.14\",\n",
    "        \"height\"   : \"176cm\",\n",
    "        \"weight\"   : \"74kg\",\n",
    "        \"team\"     : \"Hamburger SV (Germany)\",\n",
    "    },\n",
    "    \n",
    "    {\n",
    "        \"name\"     : \"KURUMAYA Shintaro\",\n",
    "        \"number\"   : \"24\",\n",
    "        \"position\" : \"DF\",\n",
    "        \"birthday\" : \"1992.04.05\",\n",
    "        \"height\"   : \"178cm\",\n",
    "        \"weight\"   : \"73kg\",\n",
    "        \"team\"     : \"Kawasaki Frontale\",\n",
    "    },\n",
    "    \n",
    "    {\n",
    "        \"name\"     : \"SHOJI Gen\",\n",
    "        \"number\"   : \"3\",\n",
    "        \"position\" : \"DF\",\n",
    "        \"birthday\" : \"1992.12.11\",\n",
    "        \"height\"   : \"182cm\",\n",
    "        \"weight\"   : \"74kg\",\n",
    "        \"team\"     : \"Kashima Antlers\",\n",
    "    },\n",
    "    \n",
    "    {\n",
    "        \"name\"     : \"UEDA Naomichi\",\n",
    "        \"number\"   : \"4\",\n",
    "        \"position\" : \"DF\",\n",
    "        \"birthday\" : \"1994.10.24\",\n",
    "        \"height\"   : \"186cm\",\n",
    "        \"weight\"   : \"79kg\",\n",
    "        \"team\"     : \"Kashima Antlers\",\n",
    "    },\n",
    "    \n",
    "    {\n",
    "        \"name\"     : \"KURATA Shu\",\n",
    "        \"number\"   : \"7\",\n",
    "        \"position\" : \"MF\",\n",
    "        \"birthday\" : \"1988.11.26\",\n",
    "        \"height\"   : \"172cm\",\n",
    "        \"weight\"   : \"68kg\",\n",
    "        \"team\"     : \"Gamba Osaka\",\n",
    "    },\n",
    "    \n",
    "    {\n",
    "        \"name\"     : \"KAGAWA Shinji\",\n",
    "        \"number\"   : \"10\",\n",
    "        \"position\" : \"MF\",\n",
    "        \"birthday\" : \"1989.03.17\",\n",
    "        \"height\"   : \"175cm\",\n",
    "        \"weight\"   : \"68kg\",\n",
    "        \"team\"     : \"Borussia Dortmund (Germany)\",\n",
    "    },\n",
    "    \n",
    "    {\n",
    "        \"name\"     : \"YAMAGUCHI Hotaru\",\n",
    "        \"number\"   : \"16\",\n",
    "        \"position\" : \"MF\",\n",
    "        \"birthday\" : \"1990.10.06\",\n",
    "        \"height\"   : \"173cm\",\n",
    "        \"weight\"   : \"72kg\",\n",
    "        \"team\"     : \"Cerezo Osaka\",\n",
    "    },\n",
    "    \n",
    "    {\n",
    "        \"name\"     : \"KOBAYASHI Yuki\",\n",
    "        \"number\"   : \"17\",\n",
    "        \"position\" : \"MF\",\n",
    "        \"birthday\" : \"1992.04.24\",\n",
    "        \"height\"   : \"182cm\",\n",
    "        \"weight\"   : \"72kg\",\n",
    "        \"team\"     : \"Sport Club Heerenveen (Netherlands)\",\n",
    "    },\n",
    "    \n",
    "    {\n",
    "        \"name\"     : \"ENDO Wataru\",\n",
    "        \"number\"   : \"6\",\n",
    "        \"position\" : \"MF\",\n",
    "        \"birthday\" : \"1993.02.09\",\n",
    "        \"height\"   : \"178cm\",\n",
    "        \"weight\"   : \"75kg\",\n",
    "        \"team\"     : \"Urawa Red Diamonds\",\n",
    "    },\n",
    "    \n",
    "    {\n",
    "        \"name\"     : \"IDEGUCHI Yosuke\",\n",
    "        \"number\"   : \"2\",\n",
    "        \"position\" : \"MF\",\n",
    "        \"birthday\" : \"1996.08.23\",\n",
    "        \"height\"   : \"171cm\",\n",
    "        \"weight\"   : \"71kg\",\n",
    "        \"team\"     : \"Gamba Osaka\",\n",
    "    },\n",
    "    \n",
    "    {\n",
    "        \"name\"     : \"INUI Takashi\",\n",
    "        \"number\"   : \"14\",\n",
    "        \"position\" : \"FW\",\n",
    "        \"birthday\" : \"1988.06.02\",\n",
    "        \"height\"   : \"169cm\",\n",
    "        \"weight\"   : \"59kg\",\n",
    "        \"team\"     : \"SD Eibar (Spain)\",\n",
    "    },\n",
    "    \n",
    "    {\n",
    "        \"name\"     : \"OSAKO Yuya\",\n",
    "        \"number\"   : \"15\",\n",
    "        \"position\" : \"FW\",\n",
    "        \"birthday\" : \"1990.05.18\",\n",
    "        \"height\"   : \"182cm\",\n",
    "        \"weight\"   : \"71kg\",\n",
    "        \"team\"     : \"1.FC Köln (Germany)\",\n",
    "    },\n",
    "    \n",
    "    {\n",
    "        \"name\"     : \"HARAGUCHI Genki\",\n",
    "        \"number\"   : \"8\",\n",
    "        \"position\" : \"FW\",\n",
    "        \"birthday\" : \"1991.05.09\",\n",
    "        \"height\"   : \"177cm\",\n",
    "        \"weight\"   : \"68kg\",\n",
    "        \"team\"     : \"Hertha BSC Berlin (Germany)\",\n",
    "    },\n",
    "    \n",
    "    {\n",
    "        \"name\"     : \"MUTO Yoshinori\",\n",
    "        \"number\"   : \"9\",\n",
    "        \"position\" : \"FW\",\n",
    "        \"birthday\" : \"1992.07.15\",\n",
    "        \"height\"   : \"179cm\",\n",
    "        \"weight\"   : \"72kg\",\n",
    "        \"team\"     : \"1.FSV Mainz 05 (Germany)\",\n",
    "    },\n",
    "    \n",
    "    {\n",
    "        \"name\"     : \"SUGIMOTO Kenyu\",\n",
    "        \"number\"   : \"13\",\n",
    "        \"position\" : \"FW\",\n",
    "        \"birthday\" : \"1992.11.18\",\n",
    "        \"height\"   : \"187cm\",\n",
    "        \"weight\"   : \"79kg\",\n",
    "        \"team\"     : \"Cerezo Osaka\",\n",
    "    },\n",
    "    \n",
    "    {\n",
    "        \"name\"     : \"KUBO Yuya\",\n",
    "        \"number\"   : \"11\",\n",
    "        \"position\" : \"FW\",\n",
    "        \"birthday\" : \"1993.12.24\",\n",
    "        \"height\"   : \"178cm\",\n",
    "        \"weight\"   : \"72kg\",\n",
    "        \"team\"     : \"KAA Gent (Belgium)\",\n",
    "    },\n",
    "    \n",
    "    {\n",
    "        \"name\"     : \"ASANO Takuma\",\n",
    "        \"number\"   : \"18\",\n",
    "        \"position\" : \"FW\",\n",
    "        \"birthday\" : \"1994.11.10\",\n",
    "        \"height\"   : \"173cm\",\n",
    "        \"weight\"   : \"71kg\",\n",
    "        \"team\"     : \"VfB Stuttgart (Germany)\",\n",
    "    }\n",
    "]\n",
    "\n",
    "samurai_blue"
   ]
  },
  {
   "cell_type": "code",
   "execution_count": 13,
   "metadata": {
    "collapsed": false
   },
   "outputs": [
    {
     "name": "stdout",
     "output_type": "stream",
     "text": [
      "KAWASHIMA Eiji [1] GK\n",
      "HIGASHIGUCHI Masaaki [12] GK\n",
      "NAKAMURA Kosuke [23] GK\n",
      "NAGATOMO Yuto [5] DF\n",
      "MAKINO Tomoaki [20] DF\n",
      "YOSHIDA Maya [22] DF\n",
      "SAKAI Hiroki [19] DF\n",
      "SAKAI Gotoku [21] DF\n",
      "KURUMAYA Shintaro [24] DF\n",
      "SHOJI Gen [3] DF\n",
      "UEDA Naomichi [4] DF\n",
      "KURATA Shu [7] MF\n",
      "KAGAWA Shinji [10] MF\n",
      "YAMAGUCHI Hotaru [16] MF\n",
      "KOBAYASHI Yuki [17] MF\n",
      "ENDO Wataru [6] MF\n",
      "IDEGUCHI Yosuke [2] MF\n",
      "INUI Takashi [14] FW\n",
      "OSAKO Yuya [15] FW\n",
      "HARAGUCHI Genki [8] FW\n",
      "MUTO Yoshinori [9] FW\n",
      "SUGIMOTO Kenyu [13] FW\n",
      "KUBO Yuya [11] FW\n",
      "ASANO Takuma [18] FW\n"
     ]
    }
   ],
   "source": [
    "# 解答欄\n",
    "for giocatore in samurai_blue:\n",
    "    print( \"{} [{}] {}\".format( giocatore[\"name\"], giocatore[\"number\"], giocatore[\"position\"] ))"
   ]
  },
  {
   "cell_type": "code",
   "execution_count": null,
   "metadata": {
    "collapsed": true
   },
   "outputs": [],
   "source": []
  }
 ],
 "metadata": {
  "kernelspec": {
   "display_name": "Python 2",
   "language": "python",
   "name": "python2"
  },
  "language_info": {
   "codemirror_mode": {
    "name": "ipython",
    "version": 2
   },
   "file_extension": ".py",
   "mimetype": "text/x-python",
   "name": "python",
   "nbconvert_exporter": "python",
   "pygments_lexer": "ipython2",
   "version": "2.7.13"
  }
 },
 "nbformat": 4,
 "nbformat_minor": 1
}

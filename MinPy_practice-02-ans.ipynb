{
 "cells": [
  {
   "cell_type": "markdown",
   "metadata": {},
   "source": [
    "# 01 数値を使う（解答例）"
   ]
  },
  {
   "cell_type": "markdown",
   "metadata": {},
   "source": [
    "## テンパズルを解いてみよう\n",
    "\n",
    "- 下のセルの数字の間に演算子や括弧を入れて、計算結果が10になるようにしてみよう。\n",
    "- セルはコピー＆ペーストできます。なるべくたくさんの解を見つけてみましょう。"
   ]
  },
  {
   "cell_type": "code",
   "execution_count": null,
   "metadata": {
    "collapsed": false
   },
   "outputs": [],
   "source": [
    "## 演算子を書き加えてください ##\n",
    "\n",
    "5 5 1 9"
   ]
  },
  {
   "cell_type": "code",
   "execution_count": null,
   "metadata": {
    "collapsed": true
   },
   "outputs": [],
   "source": [
    "## 演算子を書き加えてください ##\n",
    "\n",
    "5 5 1 9"
   ]
  },
  {
   "cell_type": "code",
   "execution_count": null,
   "metadata": {
    "collapsed": true
   },
   "outputs": [],
   "source": [
    "## 演算子を書き加えてください ##\n",
    "\n",
    "5 5 1 9"
   ]
  },
  {
   "cell_type": "markdown",
   "metadata": {},
   "source": [
    "# 02 変数を使う"
   ]
  },
  {
   "cell_type": "markdown",
   "metadata": {},
   "source": [
    "## GPAの計算をしてみよう\n",
    "\n",
    "- ある学生の成績が以下の通りだったとします。\n",
    "\n",
    "|評語|その評語を取った科目数|\n",
    "|:--:|:--:|\n",
    "|S|38|\n",
    "|A|48|\n",
    "|B|34|\n",
    "|C|5|\n",
    "|D|10|\n",
    "\n",
    "- この学生のGPAを計算してみよう。\n",
    "  - GPAの計算方法は [SFC Guide 2017 Vol.2 p.45](http://www.gakuji.keio.ac.jp/sfc/pe/sfcguide.html) に掲載されています。\n",
    "- 計算する際に、数値はすべて変数に代入し、数値どうしを演算子で計算しないような書き方にしてください。\n",
    "  - ○　`a * b`\n",
    "  - ×　`6 * 7`"
   ]
  },
  {
   "cell_type": "code",
   "execution_count": 1,
   "metadata": {
    "collapsed": false
   },
   "outputs": [
    {
     "data": {
      "text/plain": [
       "2.7333333333333334"
      ]
     },
     "execution_count": 1,
     "metadata": {},
     "output_type": "execute_result"
    }
   ],
   "source": [
    "# 解答欄\n",
    "S = 38\n",
    "A = 48\n",
    "B = 34\n",
    "C = 5\n",
    "D = 10\n",
    "\n",
    "( 4.0 * S + 3.0 * A + 2.0 * B + C ) / ( S + A + B + C + D )"
   ]
  },
  {
   "cell_type": "markdown",
   "metadata": {},
   "source": [
    "## 変数名のつけ方\n",
    "\n",
    "- 次の文字列を、変数名として使えるものと使えないものに分類してみよう\n",
    "  - 確かめ方：セルにコピペして `abc = 1` のような文を実行してみてエラーが出ないようなら、変数名として使えるということです。"
   ]
  },
  {
   "cell_type": "markdown",
   "metadata": {},
   "source": [
    "1. `abc`\n",
    "1. `123`\n",
    "1. `abc123`\n",
    "1. `123abc`\n",
    "1. `abc_123`\n",
    "1. `123_abc`\n",
    "1. `_abc123`\n",
    "1. `_123abc`\n",
    "1. `abc123_`\n",
    "1. `123abc_`\n",
    "1. `__abc123`\n",
    "1. `__123abc`"
   ]
  },
  {
   "cell_type": "code",
   "execution_count": null,
   "metadata": {
    "collapsed": true
   },
   "outputs": [],
   "source": [
    "# アヤシイものが、変数名として使えるか確かめてみましょう。"
   ]
  },
  {
   "cell_type": "markdown",
   "metadata": {},
   "source": [
    "# 03 文字列を使う"
   ]
  },
  {
   "cell_type": "markdown",
   "metadata": {},
   "source": [
    "## 文字列の連結\n",
    "\n",
    "- 下のセルの文字列を連結して、文字列 \"Shonan Fujisawa Campus\" を出力するように、セルの末尾に１行だけ書き足しなさい。"
   ]
  },
  {
   "cell_type": "code",
   "execution_count": 2,
   "metadata": {
    "collapsed": false
   },
   "outputs": [
    {
     "data": {
      "text/plain": [
       "'Shonan Fujisawa Campus'"
      ]
     },
     "execution_count": 2,
     "metadata": {},
     "output_type": "execute_result"
    }
   ],
   "source": [
    "S = \"Shonan\"\n",
    "F = \"Fujisawa\"\n",
    "C = \"Campus\"\n",
    "\n",
    "## ここにコードを書き加えてください ##\n",
    "S + \" \" + F + \" \" + C"
   ]
  },
  {
   "cell_type": "markdown",
   "metadata": {},
   "source": [
    "## 複合演算子\n",
    "\n",
    "- 下のセルの末尾に数行書き足して、文字列 \"Shonan Fujisawa Campus\" を出力するようにしなさい。ただし、**使用できる演算子は複合演算子だけ**とします。"
   ]
  },
  {
   "cell_type": "code",
   "execution_count": 4,
   "metadata": {
    "collapsed": false
   },
   "outputs": [
    {
     "name": "stdout",
     "output_type": "stream",
     "text": [
      "Shonan FujisawaCampus\n"
     ]
    }
   ],
   "source": [
    "SF = \"Shonan Fujisawa\"\n",
    "C = \"Campus\"\n",
    "\n",
    "## ここにコードを書き加えてください ##\n",
    "SF += \"\"\n",
    "SF += C\n",
    "print SF"
   ]
  },
  {
   "cell_type": "markdown",
   "metadata": {},
   "source": [
    "- 下のセルの末尾に数行書き足して、２の８乗（2<sup>8</sup>）を計算しなさい。ただし、**使用できる演算子は複合演算子だけ**とします。"
   ]
  },
  {
   "cell_type": "code",
   "execution_count": 6,
   "metadata": {
    "collapsed": false
   },
   "outputs": [
    {
     "data": {
      "text/plain": [
       "256"
      ]
     },
     "execution_count": 6,
     "metadata": {},
     "output_type": "execute_result"
    }
   ],
   "source": [
    "x = 2\n",
    "\n",
    "## ここにコードを書き加えてください ##\n",
    "x *= x  # ２の２乗\n",
    "x *= x  # ２の２乗の２乗 ＝ ２の４乗\n",
    "x *= x  # ２の４乗の２乗 ＝ ２の８乗\n",
    "x"
   ]
  },
  {
   "cell_type": "markdown",
   "metadata": {},
   "source": [
    "## 型変換\n",
    "\n",
    "- 次のセルにコードを書き足して、123 × 456 を計算しなさい。ただし、セルに新たに数値を書き込まずに完成させてください。"
   ]
  },
  {
   "cell_type": "code",
   "execution_count": 7,
   "metadata": {
    "collapsed": false
   },
   "outputs": [
    {
     "data": {
      "text/plain": [
       "56088"
      ]
     },
     "execution_count": 7,
     "metadata": {},
     "output_type": "execute_result"
    }
   ],
   "source": [
    "a = \"123\"\n",
    "b = \"456\"\n",
    "\n",
    "## ここにコードを書き加えてください ##\n",
    "int(a)*int(b)"
   ]
  },
  {
   "cell_type": "markdown",
   "metadata": {},
   "source": [
    "- 次のセルにコードを書き足して、123 ÷ 456 を計算しなさい（小数点以下の商が得られるように計算すること）。ただし、セルに新たに数値を書き込まずに完成させてください。"
   ]
  },
  {
   "cell_type": "code",
   "execution_count": 8,
   "metadata": {
    "collapsed": false
   },
   "outputs": [
    {
     "data": {
      "text/plain": [
       "0.26973684210526316"
      ]
     },
     "execution_count": 8,
     "metadata": {},
     "output_type": "execute_result"
    }
   ],
   "source": [
    "a = \"123\"\n",
    "b = \"456\"\n",
    "\n",
    "## ここにコードを書き加えてください ##\n",
    "float(a)/float(b)"
   ]
  },
  {
   "cell_type": "markdown",
   "metadata": {},
   "source": [
    "- 次のセルのコードは、`\"3 days = 72 hours\"` という出力を得たいのですが、エラーが発生しています。コードを修正して正しい結果が得られるようにしてください。"
   ]
  },
  {
   "cell_type": "code",
   "execution_count": 9,
   "metadata": {
    "collapsed": false
   },
   "outputs": [
    {
     "data": {
      "text/plain": [
       "'3 days = 72 hours'"
      ]
     },
     "execution_count": 9,
     "metadata": {},
     "output_type": "execute_result"
    }
   ],
   "source": [
    "days = 3\n",
    "hours_per_day = 24\n",
    "hours = days * hours_per_day\n",
    "\n",
    "#days + \" days = \" + hours + \" hours\"\n",
    "str(days) + \" days = \" + str(hours) + \" hours\""
   ]
  },
  {
   "cell_type": "markdown",
   "metadata": {},
   "source": [
    "# 04 リストを使う"
   ]
  },
  {
   "cell_type": "markdown",
   "metadata": {},
   "source": [
    "- 下のセルで定義したリスト `fujisawa_temps` は、藤沢市の月別の平均気温を１月から12月の順に格納したものです。\n",
    "- 教科書にならって、藤沢市の月別の平均気温をグラフに描画してみましょう。"
   ]
  },
  {
   "cell_type": "code",
   "execution_count": 10,
   "metadata": {
    "collapsed": false
   },
   "outputs": [
    {
     "data": {
      "text/plain": [
       "[<matplotlib.lines.Line2D at 0x10e72bdd0>]"
      ]
     },
     "execution_count": 10,
     "metadata": {},
     "output_type": "execute_result"
    },
    {
     "data": {
      "image/png": "[encoded data removed]",
      "text/plain": [
       "<matplotlib.figure.Figure at 0x10d36b590>"
      ]
     },
     "metadata": {},
     "output_type": "display_data"
    }
   ],
   "source": [
    "fujisawa_temps = [5.0, 5.3, 8.4, 13.5, 17.9, 21.1, 25.0, 26.5, 22.7, 17.2, 12.3, 7.6]\n",
    "\n",
    "%matplotlib inline\n",
    "import matplotlib.pyplot as plt\n",
    "\n",
    "## ここにコードを書き加えてください ##\n",
    "plt.plot(fujisawa_temps)"
   ]
  },
  {
   "cell_type": "markdown",
   "metadata": {},
   "source": [
    "## インデックスを指定して要素を取り出す\n",
    "\n",
    "- リスト `fujisawa_temps` の要素を取りだして、最も暑い８月の平均気温と最も寒い１月の平均気温の差を計算してください。\n",
    "  - 正解は 21.5 ℃ です。"
   ]
  },
  {
   "cell_type": "code",
   "execution_count": 11,
   "metadata": {
    "collapsed": false
   },
   "outputs": [
    {
     "data": {
      "text/plain": [
       "21.5"
      ]
     },
     "execution_count": 11,
     "metadata": {},
     "output_type": "execute_result"
    }
   ],
   "source": [
    "# 解答欄\n",
    "fujisawa_temps[7]-fujisawa_temps[0]"
   ]
  },
  {
   "cell_type": "markdown",
   "metadata": {},
   "source": [
    "## 要素の置き換え\n",
    "\n",
    "- 下のリスト `deans` の要素を置き換えて `[\"Kawazoe\", \"Hamada\", \"Murai\"]` にしましょう。"
   ]
  },
  {
   "cell_type": "code",
   "execution_count": 12,
   "metadata": {
    "collapsed": false
   },
   "outputs": [
    {
     "data": {
      "text/plain": [
       "['Kawazoe', 'Hamada', 'Murai']"
      ]
     },
     "execution_count": 12,
     "metadata": {},
     "output_type": "execute_result"
    }
   ],
   "source": [
    "deans = [\"Kawazoe\", \"Murai\", \"Kiyoshi\"]\n",
    "\n",
    "## ここにコードを書き加えてください ##\n",
    "deans[2] = deans[1]\n",
    "deans[1] = \"Hamada\"\n",
    "deans"
   ]
  },
  {
   "cell_type": "markdown",
   "metadata": {},
   "source": [
    "## 要素の削除\n",
    "\n",
    "- 下のリスト `bills` の要素は、日本の紙幣の額面です。このリストから、現在使われていない額面の要素を削除しましょう。"
   ]
  },
  {
   "cell_type": "code",
   "execution_count": 14,
   "metadata": {
    "collapsed": false
   },
   "outputs": [
    {
     "data": {
      "text/plain": [
       "['1000yen', '2000yen', '5000yen', '10000yen']"
      ]
     },
     "execution_count": 14,
     "metadata": {},
     "output_type": "execute_result"
    }
   ],
   "source": [
    "bills = [\"100yen\", \"500yen\", \"1000yen\", \"2000yen\", \"5000yen\", \"10000yen\"]\n",
    "\n",
    "## ここにコードを書き加えてください ##\n",
    "del bills[0:2]\n",
    "bills"
   ]
  },
  {
   "cell_type": "markdown",
   "metadata": {},
   "source": [
    "## スライスを利用して複数の要素を取り出す\n",
    "\n",
    "- 下のリスト `bills` の要素は、日本の紙幣の額面です。このリストから、現在使われている額面の要素だけを含むリストを、 `bills` のスライスとして取り出しましょう。"
   ]
  },
  {
   "cell_type": "code",
   "execution_count": 15,
   "metadata": {
    "collapsed": false
   },
   "outputs": [
    {
     "data": {
      "text/plain": [
       "['1000yen', '2000yen', '5000yen', '10000yen']"
      ]
     },
     "execution_count": 15,
     "metadata": {},
     "output_type": "execute_result"
    }
   ],
   "source": [
    "bills = [\"100yen\", \"500yen\", \"1000yen\", \"2000yen\", \"5000yen\", \"10000yen\"]\n",
    "\n",
    "## ここにコードを書き加えてください ##\n",
    "bills[2:]"
   ]
  },
  {
   "cell_type": "markdown",
   "metadata": {},
   "source": [
    "## リストのリスト　—　二次元配列\n",
    "\n",
    "- 下の表は、藤沢市の月別の平均気温と降水量です。\n",
    "\n",
    "||1月|2月|3月|4月|5月|6月|7月|8月|9月|10月|11月|12月|\n",
    "|:-:|-:|-:|-:|-:|-:|-:|-:|-:|-:|-:|-:|-:|\n",
    "|平均温度|5.0|5.3|8.4|13.5|17.9|21.1|25.0|26.5|22.7|17.2|12.3|7.6|\n",
    "|降水量|55.0|65.0|111.0|137.0|159.0|210.0|153.0|153.0|200.0|180.0|98.0|58.0|\n",
    "\n",
    "- 下のセルに、これを二次元配列として表した `fujisawa_temps_and_rainfalls` を定義します。"
   ]
  },
  {
   "cell_type": "code",
   "execution_count": 18,
   "metadata": {
    "collapsed": false
   },
   "outputs": [],
   "source": [
    "fujisawa_temps_and_rainfalls = [\n",
    "    [5.0, 5.3, 8.4, 13.5, 17.9, 21.1, 25.0, 26.5, 22.7, 17.2, 12.3, 7.6],\n",
    "    [55.0, 65.0, 111.0, 137.0, 159.0, 210.0, 153.0, 153.0, 200.0, 180.0, 98.0, 58.0]\n",
    "]"
   ]
  },
  {
   "cell_type": "markdown",
   "metadata": {},
   "source": [
    "- `fujisawa_temps_and_rainfalls` から月別降水量のリストを取り出してみましょう。"
   ]
  },
  {
   "cell_type": "code",
   "execution_count": 19,
   "metadata": {
    "collapsed": false
   },
   "outputs": [
    {
     "data": {
      "text/plain": [
       "[55.0,\n",
       " 65.0,\n",
       " 111.0,\n",
       " 137.0,\n",
       " 159.0,\n",
       " 210.0,\n",
       " 153.0,\n",
       " 153.0,\n",
       " 200.0,\n",
       " 180.0,\n",
       " 98.0,\n",
       " 58.0]"
      ]
     },
     "execution_count": 19,
     "metadata": {},
     "output_type": "execute_result"
    }
   ],
   "source": [
    "# 解答欄\n",
    "fujisawa_temps_and_rainfalls[1]"
   ]
  },
  {
   "cell_type": "markdown",
   "metadata": {},
   "source": [
    "- `fujisawa_temps_and_rainfalls` の要素を取りだして、最も雨の多い６月と最も雨の少ない１月の降水量の差を計算してください。"
   ]
  },
  {
   "cell_type": "code",
   "execution_count": 20,
   "metadata": {
    "collapsed": false
   },
   "outputs": [
    {
     "data": {
      "text/plain": [
       "155.0"
      ]
     },
     "execution_count": 20,
     "metadata": {},
     "output_type": "execute_result"
    }
   ],
   "source": [
    "# 解答欄\n",
    "fujisawa_temps_and_rainfalls[1][5]-fujisawa_temps_and_rainfalls[1][0]"
   ]
  },
  {
   "cell_type": "markdown",
   "metadata": {},
   "source": [
    "- 下のセルで定義した `miamibeach_temps_and_rainfalls` は、マイアミビーチ市（藤沢市の姉妹都市）の月別平均気温と降水量の二次元配列です。"
   ]
  },
  {
   "cell_type": "code",
   "execution_count": 21,
   "metadata": {
    "collapsed": true
   },
   "outputs": [],
   "source": [
    "miamibeach_temps_and_rainfalls = [\n",
    "    [19.8, 20.2, 21.8, 23.6, 25.5, 27.2, 28, 28.1, 27.6, 25.7, 23.2, 20.7],\n",
    "    [56.0, 57.0, 52.0, 63.0, 147.0, 191.0, 110.0, 130.0, 172.0, 137.0, 74.0, 45.0]\n",
    "]\n"
   ]
  },
  {
   "cell_type": "markdown",
   "metadata": {},
   "source": [
    "- 藤沢市とマイアミビーチ市の平均気温を比較するグラフを描いてみましょう。"
   ]
  },
  {
   "cell_type": "code",
   "execution_count": 22,
   "metadata": {
    "collapsed": false
   },
   "outputs": [
    {
     "data": {
      "text/plain": [
       "[<matplotlib.lines.Line2D at 0x10d36b050>]"
      ]
     },
     "execution_count": 22,
     "metadata": {},
     "output_type": "execute_result"
    },
    {
     "data": {
      "image/png": "[encoded data removed]",
      "text/plain": [
       "<matplotlib.figure.Figure at 0x10d36b1d0>"
      ]
     },
     "metadata": {},
     "output_type": "display_data"
    }
   ],
   "source": [
    "# 解答欄\n",
    "plt.plot(fujisawa_temps_and_rainfalls[0])\n",
    "plt.plot(miamibeach_temps_and_rainfalls[0])"
   ]
  },
  {
   "cell_type": "markdown",
   "metadata": {},
   "source": [
    "- 藤沢市とマイアミビーチ市の降水量を比較するグラフを描いてみましょう。"
   ]
  },
  {
   "cell_type": "code",
   "execution_count": 23,
   "metadata": {
    "collapsed": false
   },
   "outputs": [
    {
     "data": {
      "text/plain": [
       "[<matplotlib.lines.Line2D at 0x10e7e0e90>]"
      ]
     },
     "execution_count": 23,
     "metadata": {},
     "output_type": "execute_result"
    },
    {
     "data": {
      "image/png": "[encoded data removed]",
      "text/plain": [
       "<matplotlib.figure.Figure at 0x10e8431d0>"
      ]
     },
     "metadata": {},
     "output_type": "display_data"
    }
   ],
   "source": [
    "# 解答欄\n",
    "plt.plot(fujisawa_temps_and_rainfalls[1])\n",
    "plt.plot(miamibeach_temps_and_rainfalls[1])"
   ]
  },
  {
   "cell_type": "markdown",
   "metadata": {},
   "source": [
    "## リストの合計、最大値、最小値\n",
    "\n",
    "- 藤沢市の年間降水量を `sum()` を用いて計算してみましょう。"
   ]
  },
  {
   "cell_type": "code",
   "execution_count": 24,
   "metadata": {
    "collapsed": false
   },
   "outputs": [
    {
     "data": {
      "text/plain": [
       "1579.0"
      ]
     },
     "execution_count": 24,
     "metadata": {},
     "output_type": "execute_result"
    }
   ],
   "source": [
    "# 解答欄\n",
    "sum(fujisawa_temps_and_rainfalls[1])"
   ]
  },
  {
   "cell_type": "markdown",
   "metadata": {},
   "source": [
    "- 藤沢市の月別平均気温から、最大値と最小値を出力してみましょう。"
   ]
  },
  {
   "cell_type": "code",
   "execution_count": 25,
   "metadata": {
    "collapsed": false
   },
   "outputs": [
    {
     "data": {
      "text/plain": [
       "26.5"
      ]
     },
     "execution_count": 25,
     "metadata": {},
     "output_type": "execute_result"
    }
   ],
   "source": [
    "# 最大値\n",
    "max(fujisawa_temps_and_rainfalls[0])"
   ]
  },
  {
   "cell_type": "code",
   "execution_count": 26,
   "metadata": {
    "collapsed": false
   },
   "outputs": [
    {
     "data": {
      "text/plain": [
       "5.0"
      ]
     },
     "execution_count": 26,
     "metadata": {},
     "output_type": "execute_result"
    }
   ],
   "source": [
    "# 最小値\n",
    "min(fujisawa_temps_and_rainfalls[0])"
   ]
  },
  {
   "cell_type": "markdown",
   "metadata": {},
   "source": [
    "## リストの長さを調べる\n",
    "\n",
    "- 下のリスト `kanagawa_rainfalls_recent30days` は、[気象庁が提供する期間合計降水量一覧](http://www.data.jma.go.jp/obd/stats/data/mdrr/tenkou/alltable/pre00.html#a46) から、神奈川県内の地域気象観測所の2017年９月２日〜10月１日の降水量データです。\n",
    "- リストの全要素の平均値を求めましょう。"
   ]
  },
  {
   "cell_type": "code",
   "execution_count": 28,
   "metadata": {
    "collapsed": true
   },
   "outputs": [],
   "source": [
    "kanagawa_rainfalls_recent30days = [177.5, 217.5, 236.5, 232.5, 257.5, 312.5, 224.5, 206.5, 395.5, 263.5, 388.0]"
   ]
  },
  {
   "cell_type": "code",
   "execution_count": 29,
   "metadata": {
    "collapsed": false
   },
   "outputs": [
    {
     "data": {
      "text/plain": [
       "264.72727272727275"
      ]
     },
     "execution_count": 29,
     "metadata": {},
     "output_type": "execute_result"
    }
   ],
   "source": [
    "# 解答欄\n",
    "sum(kanagawa_rainfalls_recent30days)/len(kanagawa_rainfalls_recent30days)"
   ]
  },
  {
   "cell_type": "markdown",
   "metadata": {},
   "source": [
    "# 05 for文でループを使う"
   ]
  },
  {
   "cell_type": "markdown",
   "metadata": {},
   "source": [
    "- リスト `kanagawa_rainfalls_recent30days` から、神奈川県内の地域気象観測所の2017年９月２日〜10月１日の降水量の分散を求めてみましょう。"
   ]
  },
  {
   "cell_type": "code",
   "execution_count": 30,
   "metadata": {
    "collapsed": false
   },
   "outputs": [
    {
     "data": {
      "text/plain": [
       "4665.152892561983"
      ]
     },
     "execution_count": 30,
     "metadata": {},
     "output_type": "execute_result"
    }
   ],
   "source": [
    "# 解答欄\n",
    "total = sum(kanagawa_rainfalls_recent30days)\n",
    "length = len(kanagawa_rainfalls_recent30days)\n",
    "mean = total/length\n",
    "\n",
    "variance = 0\n",
    "for rainfall in kanagawa_rainfalls_recent30days:  # 変数名は教科書通りheightでも問題ありませんが、分かりにくいです。\n",
    "    variance += (rainfall-mean)**2\n",
    "\n",
    "variance /= length\n",
    "variance"
   ]
  },
  {
   "cell_type": "markdown",
   "metadata": {},
   "source": [
    "- 標準偏差を計算してみましょう。"
   ]
  },
  {
   "cell_type": "code",
   "execution_count": 31,
   "metadata": {
    "collapsed": false
   },
   "outputs": [
    {
     "data": {
      "text/plain": [
       "68.30192451579957"
      ]
     },
     "execution_count": 31,
     "metadata": {},
     "output_type": "execute_result"
    }
   ],
   "source": [
    "# 解答欄\n",
    "variance ** 0.5"
   ]
  },
  {
   "cell_type": "markdown",
   "metadata": {},
   "source": [
    "## `range()` 関数\n",
    "\n",
    "- `range()` 関数を利用して、1から100までの整数の合計を計算してみましょう。"
   ]
  },
  {
   "cell_type": "code",
   "execution_count": 32,
   "metadata": {
    "collapsed": false
   },
   "outputs": [
    {
     "data": {
      "text/plain": [
       "4950"
      ]
     },
     "execution_count": 32,
     "metadata": {},
     "output_type": "execute_result"
    }
   ],
   "source": [
    "# 解答欄\n",
    "total = 0\n",
    "for i in range(100):\n",
    "    total += i\n",
    "\n",
    "total"
   ]
  },
  {
   "cell_type": "markdown",
   "metadata": {},
   "source": [
    "- ある微生物が、１時間に10％個体数が増加するとします。\n",
    "- 現在、その微生物は１万個体いるとします。\n",
    "- `range()` 関数を利用して、この微生物の１週間後の個体数を計算してみましょう。\n"
   ]
  },
  {
   "cell_type": "code",
   "execution_count": 34,
   "metadata": {
    "collapsed": false
   },
   "outputs": [
    {
     "data": {
      "text/plain": [
       "89943774034.77225"
      ]
     },
     "execution_count": 34,
     "metadata": {},
     "output_type": "execute_result"
    }
   ],
   "source": [
    "number_of_bacteria = 10000\n",
    "\n",
    "## ここにコードを書き加えてください ##\n",
    "a_week = 7 * 24  # h\n",
    "for h in range(a_week):\n",
    "    number_of_bacteria += 0.1*number_of_bacteria\n",
    "\n",
    "number_of_bacteria "
   ]
  },
  {
   "cell_type": "markdown",
   "metadata": {},
   "source": [
    "# 06 `if`文で条件分岐をする"
   ]
  },
  {
   "cell_type": "markdown",
   "metadata": {},
   "source": [
    "## 数値を比較する\n",
    "\n",
    "- 藤沢市の年間降水量が 1200 mm 以上なら \">= 1200 mm\" と出力する `if`文を書いてください。"
   ]
  },
  {
   "cell_type": "code",
   "execution_count": 35,
   "metadata": {
    "collapsed": false
   },
   "outputs": [
    {
     "name": "stdout",
     "output_type": "stream",
     "text": [
      ">= 1200 mm\n"
     ]
    }
   ],
   "source": [
    "if sum(fujisawa_temps_and_rainfalls[1]) >= 1200:\n",
    "    print(\">= 1200 mm\")"
   ]
  },
  {
   "cell_type": "markdown",
   "metadata": {},
   "source": [
    "## リストの要素を検索する\n",
    "\n",
    "- 下のセルで定義したリスト `amino_acids_in_codon` は、生命の遺伝暗号にコードされているアミノ酸を要素としています。\n",
    "-　文字列 `\"Asp\"` がこのリストに含まれている場合に `\"Asp is found in the codon table.\"` と出力する `if`文を書いてください。"
   ]
  },
  {
   "cell_type": "code",
   "execution_count": 36,
   "metadata": {
    "collapsed": true
   },
   "outputs": [],
   "source": [
    "amino_acids_in_codon = [\n",
    "    \"Ala\",\"Arg\",\"Ans\",\"Asp\",\"Cys\",\"Gln\",\"Glu\",\"Gly\",\"His\",\"Ile\",\n",
    "    \"Leu\",\"Lys\",\"Met\",\"Phe\",\"Pro\",\"Ser\",\"Thr\",\"Trp\",\"Tyr\",\"Val\"\n",
    "]"
   ]
  },
  {
   "cell_type": "code",
   "execution_count": 38,
   "metadata": {
    "collapsed": false
   },
   "outputs": [
    {
     "name": "stdout",
     "output_type": "stream",
     "text": [
      "Asp is found in the codon table.\n"
     ]
    }
   ],
   "source": [
    "if \"Asp\" in amino_acids_in_codon:\n",
    "    print(\"Asp is found in the codon table.\")\n"
   ]
  },
  {
   "cell_type": "markdown",
   "metadata": {},
   "source": [
    "## `else`文を使う\n",
    "\n",
    "- 藤沢市の年間降水量が 1200 mm 以上なら \">= 1200 mm\" 、そうでなければ \"< 1200 mm\" と出力する if文を書いてください。"
   ]
  },
  {
   "cell_type": "code",
   "execution_count": 39,
   "metadata": {
    "collapsed": false
   },
   "outputs": [
    {
     "name": "stdout",
     "output_type": "stream",
     "text": [
      ">= 1200 mm\n"
     ]
    }
   ],
   "source": [
    "# 解答欄\n",
    "if sum(fujisawa_temps_and_rainfalls[1]) >= 1200:\n",
    "    print(\">= 1200 mm\")\n",
    "else:\n",
    "    rint(\"< 1200 mm\")"
   ]
  },
  {
   "cell_type": "markdown",
   "metadata": {},
   "source": [
    "## `elif`文を使う\n",
    "\n",
    "- 藤沢市の年間降水量が 2000 mm 以上なら \">= 2000 mm\" 、1000 mm 以上 2000 mm 未満なら \"< 2000 mm, >= 1000 mm\" 、1000 mm 未満であれば \"< 1000 mm\" と出力する if文を書いてください。"
   ]
  },
  {
   "cell_type": "code",
   "execution_count": 40,
   "metadata": {
    "collapsed": false
   },
   "outputs": [
    {
     "name": "stdout",
     "output_type": "stream",
     "text": [
      "< 2000 mm, >= 1000 mm\n"
     ]
    }
   ],
   "source": [
    "# 解答欄\n",
    "if sum(fujisawa_temps_and_rainfalls[1]) >= 2000:\n",
    "    print(\">= 2000 mm\")\n",
    "elif sum(fujisawa_temps_and_rainfalls[1]) >= 1000:\n",
    "    print(\"< 2000 mm, >= 1000 mm\")\n",
    "else:\n",
    "    print(\"< 1200 mm\")"
   ]
  },
  {
   "cell_type": "markdown",
   "metadata": {},
   "source": [
    "# 07 関数を使う"
   ]
  },
  {
   "cell_type": "markdown",
   "metadata": {},
   "source": [
    "## 関数の引数、戻り値\n",
    "\n",
    "- `pow()`関数は、２つの**引数**をとります。 `pow(a,b)` の**戻り値**は、`a` の `b` 乗（a<sup>b</sup>）です。\n",
    "- `pow()`関数および `for`文を使って、２の０乗から10乗までの計算結果を順に出力するコードを書いてみましょう。"
   ]
  },
  {
   "cell_type": "code",
   "execution_count": 42,
   "metadata": {
    "collapsed": false
   },
   "outputs": [
    {
     "name": "stdout",
     "output_type": "stream",
     "text": [
      "1\n",
      "2\n",
      "4\n",
      "8\n",
      "16\n",
      "32\n",
      "64\n",
      "128\n",
      "256\n",
      "512\n"
     ]
    }
   ],
   "source": [
    "# 解答欄\n",
    "for i in range(10):\n",
    "    print pow(2,i)"
   ]
  },
  {
   "cell_type": "markdown",
   "metadata": {},
   "source": [
    "## 関数を定義する\n",
    "\n",
    "- 以下のような引数と戻り値を持つ関数 `temps_stat()` を作ってみましょう。\n",
    "  - **引数**：月別平均気温のリスト\n",
    "  - **戻り値**：年間平均気温、月別平均気温の最大値、月別平均気温の最小値の３つの要素からなるリスト"
   ]
  },
  {
   "cell_type": "code",
   "execution_count": 43,
   "metadata": {
    "collapsed": true
   },
   "outputs": [],
   "source": [
    "# 解答欄\n",
    "def temps_stat( month_aves ):\n",
    "    return [\n",
    "        sum(month_aves)/len(month_aves),\n",
    "        max(month_aves),\n",
    "        min(month_aves)\n",
    "    ]"
   ]
  },
  {
   "cell_type": "markdown",
   "metadata": {},
   "source": [
    "- 作った関数 ` temps_stat()` を使って、マイアミビーチ市の年間平均気温、月別平均気温の最大値、月別平均気温の最小値（のリスト）を求めてみましょう。"
   ]
  },
  {
   "cell_type": "code",
   "execution_count": 44,
   "metadata": {
    "collapsed": false
   },
   "outputs": [
    {
     "data": {
      "text/plain": [
       "[102.83333333333333, 191.0, 45.0]"
      ]
     },
     "execution_count": 44,
     "metadata": {},
     "output_type": "execute_result"
    }
   ],
   "source": [
    "# 解答欄\n",
    "temps_stat(miamibeach_temps_and_rainfalls[1])"
   ]
  },
  {
   "cell_type": "markdown",
   "metadata": {},
   "source": [
    "# 08 モジュールを使う"
   ]
  },
  {
   "cell_type": "markdown",
   "metadata": {},
   "source": [
    "## モジュールをインポート（`import`）する\n",
    "\n",
    "- `random`モジュールを使って、サイコロ（１〜６の整数の乱数発生器）を10000回振ったときの出た目の平均値を求めてみましょう。\n",
    "- 「みんなのPython第４版」p.108のサンプルコード内のコメントは誤っているので注意してください。\n",
    "  - `random,randint(0, 6)` とした場合、「0 **＜** x ≦ 6 の乱数」ではなく「0 **≦** x ≦ 6 の乱数」を得ます。\n",
    "    - （中級者以上向け）`numpy.random.randint(0, 6)` は、「0 **≦** x **＜** 6 の乱数」を返します。同じ名前の関数で引数の定義が異なるで注意しましょう。"
   ]
  },
  {
   "cell_type": "code",
   "execution_count": 45,
   "metadata": {
    "collapsed": false
   },
   "outputs": [
    {
     "name": "stdout",
     "output_type": "stream",
     "text": [
      "1\n"
     ]
    }
   ],
   "source": [
    "import random\n",
    "\n",
    "# 1 ≦ x ≦ 6 の乱数を得る\n",
    "print(random.randint(1, 6))"
   ]
  },
  {
   "cell_type": "code",
   "execution_count": 46,
   "metadata": {
    "collapsed": false
   },
   "outputs": [
    {
     "data": {
      "text/plain": [
       "3.5209"
      ]
     },
     "execution_count": 46,
     "metadata": {},
     "output_type": "execute_result"
    }
   ],
   "source": [
    "# 解答欄\n",
    "n = 10000\n",
    "total = 0\n",
    "for i in range(n):\n",
    "    total += random.randint(1, 6)\n",
    "\n",
    "float(total) / float(n)"
   ]
  },
  {
   "cell_type": "markdown",
   "metadata": {},
   "source": [
    "## `import`文の`as`\n",
    "\n",
    "- 上のサイコロの出た目の平均を算出するプログラムを、`random`モジュールを`rd`という名前でインポートして書いてみましょう。"
   ]
  },
  {
   "cell_type": "code",
   "execution_count": 47,
   "metadata": {
    "collapsed": false
   },
   "outputs": [
    {
     "data": {
      "text/plain": [
       "3.4999"
      ]
     },
     "execution_count": 47,
     "metadata": {},
     "output_type": "execute_result"
    }
   ],
   "source": [
    "# 解答欄\n",
    "import random as rd\n",
    "\n",
    "n = 10000\n",
    "total = 0\n",
    "for i in range(n):\n",
    "    total += rd.randint(1, 6)\n",
    "\n",
    "float(total) / float(n)\n"
   ]
  },
  {
   "cell_type": "markdown",
   "metadata": {},
   "source": [
    "## `from`を使ったインポート\n",
    "\n",
    "- `math`というモジュールには数学関連の機能が数多く実装されています。その中に、円周率πもあり、`math.pi`で呼び出せます。\n",
    "- `from`を用いて、単純に「`pi`」だけで円周率πを使えるようにしましょう。下のセルのコードの**上方**に必要な行を書き加えて、半径10の円の面積を求める、エラーのないコードに仕上げてください。"
   ]
  },
  {
   "cell_type": "code",
   "execution_count": 48,
   "metadata": {
    "collapsed": false
   },
   "outputs": [
    {
     "data": {
      "text/plain": [
       "314.1592653589793"
      ]
     },
     "execution_count": 48,
     "metadata": {},
     "output_type": "execute_result"
    }
   ],
   "source": [
    "## ここにコードを書き加えてください ##\n",
    "from math import pi\n",
    "\n",
    "# 半径 r\n",
    "r = 10.0\n",
    "\n",
    "# 半径 r の円の面積\n",
    "pi * (r ** 2.0)"
   ]
  },
  {
   "cell_type": "code",
   "execution_count": null,
   "metadata": {
    "collapsed": true
   },
   "outputs": [],
   "source": []
  }
 ],
 "metadata": {
  "kernelspec": {
   "display_name": "Python 2",
   "language": "python",
   "name": "python2"
  },
  "language_info": {
   "codemirror_mode": {
    "name": "ipython",
    "version": 2
   },
   "file_extension": ".py",
   "mimetype": "text/x-python",
   "name": "python",
   "nbconvert_exporter": "python",
   "pygments_lexer": "ipython2",
   "version": "2.7.13"
  }
 },
 "nbformat": 4,
 "nbformat_minor": 1
}
